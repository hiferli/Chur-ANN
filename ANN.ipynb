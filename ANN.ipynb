{
  "nbformat": 4,
  "nbformat_minor": 0,
  "metadata": {
    "colab": {
      "provenance": [],
      "authorship_tag": "ABX9TyOAHfyEaZkwldhiC5tteSJK",
      "include_colab_link": true
    },
    "kernelspec": {
      "name": "python3",
      "display_name": "Python 3"
    },
    "language_info": {
      "name": "python"
    },
    "accelerator": "GPU",
    "gpuClass": "standard"
  },
  "cells": [
    {
      "cell_type": "markdown",
      "metadata": {
        "id": "view-in-github",
        "colab_type": "text"
      },
      "source": [
        "<a href=\"https://colab.research.google.com/github/hiferli/Chur-ANN/blob/main/ANN.ipynb\" target=\"_parent\"><img src=\"https://colab.research.google.com/assets/colab-badge.svg\" alt=\"Open In Colab\"/></a>"
      ]
    },
    {
      "cell_type": "markdown",
      "source": [
        "# Using ANNs "
      ],
      "metadata": {
        "id": "DnWAtn7vZ9zt"
      }
    },
    {
      "cell_type": "markdown",
      "source": [
        "Part 0 : Importing Libraries"
      ],
      "metadata": {
        "id": "l45p0AUhQYXU"
      }
    },
    {
      "cell_type": "code",
      "execution_count": 116,
      "metadata": {
        "colab": {
          "base_uri": "https://localhost:8080/"
        },
        "id": "rUXY2SO0KW2H",
        "outputId": "4c3676f4-45ae-4c09-ccc9-a578e0cbbc43"
      },
      "outputs": [
        {
          "output_type": "stream",
          "name": "stdout",
          "text": [
            "Looking in indexes: https://pypi.org/simple, https://us-python.pkg.dev/colab-wheels/public/simple/\n",
            "Requirement already satisfied: tensorflow in /usr/local/lib/python3.9/dist-packages (2.11.0)\n",
            "\u001b[31mERROR: Could not find a version that satisfies the requirement as (from versions: none)\u001b[0m\u001b[31m\n",
            "\u001b[0m\u001b[31mERROR: No matching distribution found for as\u001b[0m\u001b[31m\n",
            "\u001b[0m"
          ]
        }
      ],
      "source": [
        "!pip install tensorflow as tf"
      ]
    },
    {
      "cell_type": "code",
      "source": [
        "print(tf.__version__)"
      ],
      "metadata": {
        "colab": {
          "base_uri": "https://localhost:8080/"
        },
        "id": "AWKOorzgK02y",
        "outputId": "9cc015a6-fbfb-4464-d5f6-257ebdce4fde"
      },
      "execution_count": 117,
      "outputs": [
        {
          "output_type": "stream",
          "name": "stdout",
          "text": [
            "2.11.0\n"
          ]
        }
      ]
    },
    {
      "cell_type": "code",
      "source": [
        "# Importing Basic Libraries\n",
        "import numpy as np\n",
        "import pandas as pd\n",
        "import matplotlib.pyplot as plt"
      ],
      "metadata": {
        "id": "0WUCUnn8LTDV"
      },
      "execution_count": 118,
      "outputs": []
    },
    {
      "cell_type": "markdown",
      "source": [
        "Part 1 : Working on the Dataset "
      ],
      "metadata": {
        "id": "LaDX5tG0QS0O"
      }
    },
    {
      "cell_type": "code",
      "source": [
        "# Link to the Dataset: https://drive.google.com/file/d/1ZRXIpzLhbtBccjauzROH5AuY3aZl7faW/view\n",
        "dataset = pd.read_csv('Churn_Modelling.csv')\n",
        "dataset.head()"
      ],
      "metadata": {
        "colab": {
          "base_uri": "https://localhost:8080/",
          "height": 206
        },
        "id": "HAsvnirFLejX",
        "outputId": "bb73c751-d9f3-4358-b827-47c2cf90b74d"
      },
      "execution_count": 119,
      "outputs": [
        {
          "output_type": "execute_result",
          "data": {
            "text/plain": [
              "   RowNumber  CustomerId   Surname  CreditScore Geography  Gender  Age  \\\n",
              "0          1    15634602  Hargrave          619    France  Female   42   \n",
              "1          2    15647311      Hill          608     Spain  Female   41   \n",
              "2          3    15619304      Onio          502    France  Female   42   \n",
              "3          4    15701354      Boni          699    France  Female   39   \n",
              "4          5    15737888  Mitchell          850     Spain  Female   43   \n",
              "\n",
              "   Tenure    Balance  NumOfProducts  HasCrCard  IsActiveMember  \\\n",
              "0       2       0.00              1          1               1   \n",
              "1       1   83807.86              1          0               1   \n",
              "2       8  159660.80              3          1               0   \n",
              "3       1       0.00              2          0               0   \n",
              "4       2  125510.82              1          1               1   \n",
              "\n",
              "   EstimatedSalary  Exited  \n",
              "0        101348.88       1  \n",
              "1        112542.58       0  \n",
              "2        113931.57       1  \n",
              "3         93826.63       0  \n",
              "4         79084.10       0  "
            ],
            "text/html": [
              "\n",
              "  <div id=\"df-4dcae432-d084-494e-b975-368a15e428d2\">\n",
              "    <div class=\"colab-df-container\">\n",
              "      <div>\n",
              "<style scoped>\n",
              "    .dataframe tbody tr th:only-of-type {\n",
              "        vertical-align: middle;\n",
              "    }\n",
              "\n",
              "    .dataframe tbody tr th {\n",
              "        vertical-align: top;\n",
              "    }\n",
              "\n",
              "    .dataframe thead th {\n",
              "        text-align: right;\n",
              "    }\n",
              "</style>\n",
              "<table border=\"1\" class=\"dataframe\">\n",
              "  <thead>\n",
              "    <tr style=\"text-align: right;\">\n",
              "      <th></th>\n",
              "      <th>RowNumber</th>\n",
              "      <th>CustomerId</th>\n",
              "      <th>Surname</th>\n",
              "      <th>CreditScore</th>\n",
              "      <th>Geography</th>\n",
              "      <th>Gender</th>\n",
              "      <th>Age</th>\n",
              "      <th>Tenure</th>\n",
              "      <th>Balance</th>\n",
              "      <th>NumOfProducts</th>\n",
              "      <th>HasCrCard</th>\n",
              "      <th>IsActiveMember</th>\n",
              "      <th>EstimatedSalary</th>\n",
              "      <th>Exited</th>\n",
              "    </tr>\n",
              "  </thead>\n",
              "  <tbody>\n",
              "    <tr>\n",
              "      <th>0</th>\n",
              "      <td>1</td>\n",
              "      <td>15634602</td>\n",
              "      <td>Hargrave</td>\n",
              "      <td>619</td>\n",
              "      <td>France</td>\n",
              "      <td>Female</td>\n",
              "      <td>42</td>\n",
              "      <td>2</td>\n",
              "      <td>0.00</td>\n",
              "      <td>1</td>\n",
              "      <td>1</td>\n",
              "      <td>1</td>\n",
              "      <td>101348.88</td>\n",
              "      <td>1</td>\n",
              "    </tr>\n",
              "    <tr>\n",
              "      <th>1</th>\n",
              "      <td>2</td>\n",
              "      <td>15647311</td>\n",
              "      <td>Hill</td>\n",
              "      <td>608</td>\n",
              "      <td>Spain</td>\n",
              "      <td>Female</td>\n",
              "      <td>41</td>\n",
              "      <td>1</td>\n",
              "      <td>83807.86</td>\n",
              "      <td>1</td>\n",
              "      <td>0</td>\n",
              "      <td>1</td>\n",
              "      <td>112542.58</td>\n",
              "      <td>0</td>\n",
              "    </tr>\n",
              "    <tr>\n",
              "      <th>2</th>\n",
              "      <td>3</td>\n",
              "      <td>15619304</td>\n",
              "      <td>Onio</td>\n",
              "      <td>502</td>\n",
              "      <td>France</td>\n",
              "      <td>Female</td>\n",
              "      <td>42</td>\n",
              "      <td>8</td>\n",
              "      <td>159660.80</td>\n",
              "      <td>3</td>\n",
              "      <td>1</td>\n",
              "      <td>0</td>\n",
              "      <td>113931.57</td>\n",
              "      <td>1</td>\n",
              "    </tr>\n",
              "    <tr>\n",
              "      <th>3</th>\n",
              "      <td>4</td>\n",
              "      <td>15701354</td>\n",
              "      <td>Boni</td>\n",
              "      <td>699</td>\n",
              "      <td>France</td>\n",
              "      <td>Female</td>\n",
              "      <td>39</td>\n",
              "      <td>1</td>\n",
              "      <td>0.00</td>\n",
              "      <td>2</td>\n",
              "      <td>0</td>\n",
              "      <td>0</td>\n",
              "      <td>93826.63</td>\n",
              "      <td>0</td>\n",
              "    </tr>\n",
              "    <tr>\n",
              "      <th>4</th>\n",
              "      <td>5</td>\n",
              "      <td>15737888</td>\n",
              "      <td>Mitchell</td>\n",
              "      <td>850</td>\n",
              "      <td>Spain</td>\n",
              "      <td>Female</td>\n",
              "      <td>43</td>\n",
              "      <td>2</td>\n",
              "      <td>125510.82</td>\n",
              "      <td>1</td>\n",
              "      <td>1</td>\n",
              "      <td>1</td>\n",
              "      <td>79084.10</td>\n",
              "      <td>0</td>\n",
              "    </tr>\n",
              "  </tbody>\n",
              "</table>\n",
              "</div>\n",
              "      <button class=\"colab-df-convert\" onclick=\"convertToInteractive('df-4dcae432-d084-494e-b975-368a15e428d2')\"\n",
              "              title=\"Convert this dataframe to an interactive table.\"\n",
              "              style=\"display:none;\">\n",
              "        \n",
              "  <svg xmlns=\"http://www.w3.org/2000/svg\" height=\"24px\"viewBox=\"0 0 24 24\"\n",
              "       width=\"24px\">\n",
              "    <path d=\"M0 0h24v24H0V0z\" fill=\"none\"/>\n",
              "    <path d=\"M18.56 5.44l.94 2.06.94-2.06 2.06-.94-2.06-.94-.94-2.06-.94 2.06-2.06.94zm-11 1L8.5 8.5l.94-2.06 2.06-.94-2.06-.94L8.5 2.5l-.94 2.06-2.06.94zm10 10l.94 2.06.94-2.06 2.06-.94-2.06-.94-.94-2.06-.94 2.06-2.06.94z\"/><path d=\"M17.41 7.96l-1.37-1.37c-.4-.4-.92-.59-1.43-.59-.52 0-1.04.2-1.43.59L10.3 9.45l-7.72 7.72c-.78.78-.78 2.05 0 2.83L4 21.41c.39.39.9.59 1.41.59.51 0 1.02-.2 1.41-.59l7.78-7.78 2.81-2.81c.8-.78.8-2.07 0-2.86zM5.41 20L4 18.59l7.72-7.72 1.47 1.35L5.41 20z\"/>\n",
              "  </svg>\n",
              "      </button>\n",
              "      \n",
              "  <style>\n",
              "    .colab-df-container {\n",
              "      display:flex;\n",
              "      flex-wrap:wrap;\n",
              "      gap: 12px;\n",
              "    }\n",
              "\n",
              "    .colab-df-convert {\n",
              "      background-color: #E8F0FE;\n",
              "      border: none;\n",
              "      border-radius: 50%;\n",
              "      cursor: pointer;\n",
              "      display: none;\n",
              "      fill: #1967D2;\n",
              "      height: 32px;\n",
              "      padding: 0 0 0 0;\n",
              "      width: 32px;\n",
              "    }\n",
              "\n",
              "    .colab-df-convert:hover {\n",
              "      background-color: #E2EBFA;\n",
              "      box-shadow: 0px 1px 2px rgba(60, 64, 67, 0.3), 0px 1px 3px 1px rgba(60, 64, 67, 0.15);\n",
              "      fill: #174EA6;\n",
              "    }\n",
              "\n",
              "    [theme=dark] .colab-df-convert {\n",
              "      background-color: #3B4455;\n",
              "      fill: #D2E3FC;\n",
              "    }\n",
              "\n",
              "    [theme=dark] .colab-df-convert:hover {\n",
              "      background-color: #434B5C;\n",
              "      box-shadow: 0px 1px 3px 1px rgba(0, 0, 0, 0.15);\n",
              "      filter: drop-shadow(0px 1px 2px rgba(0, 0, 0, 0.3));\n",
              "      fill: #FFFFFF;\n",
              "    }\n",
              "  </style>\n",
              "\n",
              "      <script>\n",
              "        const buttonEl =\n",
              "          document.querySelector('#df-4dcae432-d084-494e-b975-368a15e428d2 button.colab-df-convert');\n",
              "        buttonEl.style.display =\n",
              "          google.colab.kernel.accessAllowed ? 'block' : 'none';\n",
              "\n",
              "        async function convertToInteractive(key) {\n",
              "          const element = document.querySelector('#df-4dcae432-d084-494e-b975-368a15e428d2');\n",
              "          const dataTable =\n",
              "            await google.colab.kernel.invokeFunction('convertToInteractive',\n",
              "                                                     [key], {});\n",
              "          if (!dataTable) return;\n",
              "\n",
              "          const docLinkHtml = 'Like what you see? Visit the ' +\n",
              "            '<a target=\"_blank\" href=https://colab.research.google.com/notebooks/data_table.ipynb>data table notebook</a>'\n",
              "            + ' to learn more about interactive tables.';\n",
              "          element.innerHTML = '';\n",
              "          dataTable['output_type'] = 'display_data';\n",
              "          await google.colab.output.renderOutput(dataTable, element);\n",
              "          const docLink = document.createElement('div');\n",
              "          docLink.innerHTML = docLinkHtml;\n",
              "          element.appendChild(docLink);\n",
              "        }\n",
              "      </script>\n",
              "    </div>\n",
              "  </div>\n",
              "  "
            ]
          },
          "metadata": {},
          "execution_count": 119
        }
      ]
    },
    {
      "cell_type": "code",
      "source": [
        "# Getting Independant and Dependant Features\n",
        "X = dataset.iloc[: , 3 : 13]\n",
        "y = dataset.iloc[: , 13]"
      ],
      "metadata": {
        "id": "VZfV7-I4LmzY"
      },
      "execution_count": 120,
      "outputs": []
    },
    {
      "cell_type": "code",
      "source": [
        "X.head()"
      ],
      "metadata": {
        "colab": {
          "base_uri": "https://localhost:8080/",
          "height": 206
        },
        "id": "HuHhlHQFMWCY",
        "outputId": "341369db-f092-4132-d201-9879c97128a3"
      },
      "execution_count": 121,
      "outputs": [
        {
          "output_type": "execute_result",
          "data": {
            "text/plain": [
              "   CreditScore Geography  Gender  Age  Tenure    Balance  NumOfProducts  \\\n",
              "0          619    France  Female   42       2       0.00              1   \n",
              "1          608     Spain  Female   41       1   83807.86              1   \n",
              "2          502    France  Female   42       8  159660.80              3   \n",
              "3          699    France  Female   39       1       0.00              2   \n",
              "4          850     Spain  Female   43       2  125510.82              1   \n",
              "\n",
              "   HasCrCard  IsActiveMember  EstimatedSalary  \n",
              "0          1               1        101348.88  \n",
              "1          0               1        112542.58  \n",
              "2          1               0        113931.57  \n",
              "3          0               0         93826.63  \n",
              "4          1               1         79084.10  "
            ],
            "text/html": [
              "\n",
              "  <div id=\"df-f235158c-9386-4960-9407-6815a9481469\">\n",
              "    <div class=\"colab-df-container\">\n",
              "      <div>\n",
              "<style scoped>\n",
              "    .dataframe tbody tr th:only-of-type {\n",
              "        vertical-align: middle;\n",
              "    }\n",
              "\n",
              "    .dataframe tbody tr th {\n",
              "        vertical-align: top;\n",
              "    }\n",
              "\n",
              "    .dataframe thead th {\n",
              "        text-align: right;\n",
              "    }\n",
              "</style>\n",
              "<table border=\"1\" class=\"dataframe\">\n",
              "  <thead>\n",
              "    <tr style=\"text-align: right;\">\n",
              "      <th></th>\n",
              "      <th>CreditScore</th>\n",
              "      <th>Geography</th>\n",
              "      <th>Gender</th>\n",
              "      <th>Age</th>\n",
              "      <th>Tenure</th>\n",
              "      <th>Balance</th>\n",
              "      <th>NumOfProducts</th>\n",
              "      <th>HasCrCard</th>\n",
              "      <th>IsActiveMember</th>\n",
              "      <th>EstimatedSalary</th>\n",
              "    </tr>\n",
              "  </thead>\n",
              "  <tbody>\n",
              "    <tr>\n",
              "      <th>0</th>\n",
              "      <td>619</td>\n",
              "      <td>France</td>\n",
              "      <td>Female</td>\n",
              "      <td>42</td>\n",
              "      <td>2</td>\n",
              "      <td>0.00</td>\n",
              "      <td>1</td>\n",
              "      <td>1</td>\n",
              "      <td>1</td>\n",
              "      <td>101348.88</td>\n",
              "    </tr>\n",
              "    <tr>\n",
              "      <th>1</th>\n",
              "      <td>608</td>\n",
              "      <td>Spain</td>\n",
              "      <td>Female</td>\n",
              "      <td>41</td>\n",
              "      <td>1</td>\n",
              "      <td>83807.86</td>\n",
              "      <td>1</td>\n",
              "      <td>0</td>\n",
              "      <td>1</td>\n",
              "      <td>112542.58</td>\n",
              "    </tr>\n",
              "    <tr>\n",
              "      <th>2</th>\n",
              "      <td>502</td>\n",
              "      <td>France</td>\n",
              "      <td>Female</td>\n",
              "      <td>42</td>\n",
              "      <td>8</td>\n",
              "      <td>159660.80</td>\n",
              "      <td>3</td>\n",
              "      <td>1</td>\n",
              "      <td>0</td>\n",
              "      <td>113931.57</td>\n",
              "    </tr>\n",
              "    <tr>\n",
              "      <th>3</th>\n",
              "      <td>699</td>\n",
              "      <td>France</td>\n",
              "      <td>Female</td>\n",
              "      <td>39</td>\n",
              "      <td>1</td>\n",
              "      <td>0.00</td>\n",
              "      <td>2</td>\n",
              "      <td>0</td>\n",
              "      <td>0</td>\n",
              "      <td>93826.63</td>\n",
              "    </tr>\n",
              "    <tr>\n",
              "      <th>4</th>\n",
              "      <td>850</td>\n",
              "      <td>Spain</td>\n",
              "      <td>Female</td>\n",
              "      <td>43</td>\n",
              "      <td>2</td>\n",
              "      <td>125510.82</td>\n",
              "      <td>1</td>\n",
              "      <td>1</td>\n",
              "      <td>1</td>\n",
              "      <td>79084.10</td>\n",
              "    </tr>\n",
              "  </tbody>\n",
              "</table>\n",
              "</div>\n",
              "      <button class=\"colab-df-convert\" onclick=\"convertToInteractive('df-f235158c-9386-4960-9407-6815a9481469')\"\n",
              "              title=\"Convert this dataframe to an interactive table.\"\n",
              "              style=\"display:none;\">\n",
              "        \n",
              "  <svg xmlns=\"http://www.w3.org/2000/svg\" height=\"24px\"viewBox=\"0 0 24 24\"\n",
              "       width=\"24px\">\n",
              "    <path d=\"M0 0h24v24H0V0z\" fill=\"none\"/>\n",
              "    <path d=\"M18.56 5.44l.94 2.06.94-2.06 2.06-.94-2.06-.94-.94-2.06-.94 2.06-2.06.94zm-11 1L8.5 8.5l.94-2.06 2.06-.94-2.06-.94L8.5 2.5l-.94 2.06-2.06.94zm10 10l.94 2.06.94-2.06 2.06-.94-2.06-.94-.94-2.06-.94 2.06-2.06.94z\"/><path d=\"M17.41 7.96l-1.37-1.37c-.4-.4-.92-.59-1.43-.59-.52 0-1.04.2-1.43.59L10.3 9.45l-7.72 7.72c-.78.78-.78 2.05 0 2.83L4 21.41c.39.39.9.59 1.41.59.51 0 1.02-.2 1.41-.59l7.78-7.78 2.81-2.81c.8-.78.8-2.07 0-2.86zM5.41 20L4 18.59l7.72-7.72 1.47 1.35L5.41 20z\"/>\n",
              "  </svg>\n",
              "      </button>\n",
              "      \n",
              "  <style>\n",
              "    .colab-df-container {\n",
              "      display:flex;\n",
              "      flex-wrap:wrap;\n",
              "      gap: 12px;\n",
              "    }\n",
              "\n",
              "    .colab-df-convert {\n",
              "      background-color: #E8F0FE;\n",
              "      border: none;\n",
              "      border-radius: 50%;\n",
              "      cursor: pointer;\n",
              "      display: none;\n",
              "      fill: #1967D2;\n",
              "      height: 32px;\n",
              "      padding: 0 0 0 0;\n",
              "      width: 32px;\n",
              "    }\n",
              "\n",
              "    .colab-df-convert:hover {\n",
              "      background-color: #E2EBFA;\n",
              "      box-shadow: 0px 1px 2px rgba(60, 64, 67, 0.3), 0px 1px 3px 1px rgba(60, 64, 67, 0.15);\n",
              "      fill: #174EA6;\n",
              "    }\n",
              "\n",
              "    [theme=dark] .colab-df-convert {\n",
              "      background-color: #3B4455;\n",
              "      fill: #D2E3FC;\n",
              "    }\n",
              "\n",
              "    [theme=dark] .colab-df-convert:hover {\n",
              "      background-color: #434B5C;\n",
              "      box-shadow: 0px 1px 3px 1px rgba(0, 0, 0, 0.15);\n",
              "      filter: drop-shadow(0px 1px 2px rgba(0, 0, 0, 0.3));\n",
              "      fill: #FFFFFF;\n",
              "    }\n",
              "  </style>\n",
              "\n",
              "      <script>\n",
              "        const buttonEl =\n",
              "          document.querySelector('#df-f235158c-9386-4960-9407-6815a9481469 button.colab-df-convert');\n",
              "        buttonEl.style.display =\n",
              "          google.colab.kernel.accessAllowed ? 'block' : 'none';\n",
              "\n",
              "        async function convertToInteractive(key) {\n",
              "          const element = document.querySelector('#df-f235158c-9386-4960-9407-6815a9481469');\n",
              "          const dataTable =\n",
              "            await google.colab.kernel.invokeFunction('convertToInteractive',\n",
              "                                                     [key], {});\n",
              "          if (!dataTable) return;\n",
              "\n",
              "          const docLinkHtml = 'Like what you see? Visit the ' +\n",
              "            '<a target=\"_blank\" href=https://colab.research.google.com/notebooks/data_table.ipynb>data table notebook</a>'\n",
              "            + ' to learn more about interactive tables.';\n",
              "          element.innerHTML = '';\n",
              "          dataTable['output_type'] = 'display_data';\n",
              "          await google.colab.output.renderOutput(dataTable, element);\n",
              "          const docLink = document.createElement('div');\n",
              "          docLink.innerHTML = docLinkHtml;\n",
              "          element.appendChild(docLink);\n",
              "        }\n",
              "      </script>\n",
              "    </div>\n",
              "  </div>\n",
              "  "
            ]
          },
          "metadata": {},
          "execution_count": 121
        }
      ]
    },
    {
      "cell_type": "code",
      "source": [
        "y.head()"
      ],
      "metadata": {
        "colab": {
          "base_uri": "https://localhost:8080/"
        },
        "id": "cgGlJEtkMXqk",
        "outputId": "ffec4701-4613-42d1-b40f-e1e6f5eb15db"
      },
      "execution_count": 122,
      "outputs": [
        {
          "output_type": "execute_result",
          "data": {
            "text/plain": [
              "0    1\n",
              "1    0\n",
              "2    1\n",
              "3    0\n",
              "4    0\n",
              "Name: Exited, dtype: int64"
            ]
          },
          "metadata": {},
          "execution_count": 122
        }
      ]
    },
    {
      "cell_type": "code",
      "source": [
        "# Feature Engineering - One Hot Encoding Values... And then removing the first Column (Remaining all = 0 : First Column)\n",
        "geography = pd.get_dummies(X['Geography'] , drop_first = True)\n",
        "gender = pd.get_dummies(X['Gender'] , drop_first = True)"
      ],
      "metadata": {
        "id": "kaUmZWzTMfyx"
      },
      "execution_count": 123,
      "outputs": []
    },
    {
      "cell_type": "code",
      "source": [
        "# Dropping previous categorical variables\n",
        "X = X.drop(['Geography' , 'Gender'] , axis = 1)"
      ],
      "metadata": {
        "id": "l5FKB5OYNJMh"
      },
      "execution_count": 124,
      "outputs": []
    },
    {
      "cell_type": "code",
      "source": [
        "# Concatenate these Variables in the Dataframe\n",
        "X = pd.concat([X , geography , gender] , axis = 1)"
      ],
      "metadata": {
        "id": "PFkD-twGNknF"
      },
      "execution_count": 125,
      "outputs": []
    },
    {
      "cell_type": "code",
      "source": [
        "# Splitting into Training and Testing Datasets\n",
        "from sklearn.model_selection import train_test_split\n",
        "X_train , X_test , y_train , y_test = train_test_split(X , y , test_size = 0.2 , random_state = 0);"
      ],
      "metadata": {
        "id": "jZatjAJ8N_tM"
      },
      "execution_count": 126,
      "outputs": []
    },
    {
      "cell_type": "code",
      "source": [
        "# Feature Scaling\n",
        "from sklearn.preprocessing import StandardScaler\n",
        "sc = StandardScaler()\n",
        "\n",
        "# Learn Why: Why is fit_transform applied to training dataset and why is transform applied to testing dataset\n",
        "X_train = sc.fit_transform(X_train)\n",
        "X_test = sc.fit_transform(X_test)\n",
        "# HINT: Data Leakage"
      ],
      "metadata": {
        "id": "ZLTLZ--NOUSf"
      },
      "execution_count": 127,
      "outputs": []
    },
    {
      "cell_type": "markdown",
      "source": [
        "Part 2 : Working on ANN"
      ],
      "metadata": {
        "id": "21dXktNWQcwk"
      }
    },
    {
      "cell_type": "code",
      "source": [
        "from tensorflow.keras.models import Sequential\n",
        "from tensorflow.keras.layers import Dense\n",
        "from tensorflow.keras.layers import ReLU , ELU , PReLU , LeakyReLU\n",
        "from tensorflow.keras.layers import Dropout"
      ],
      "metadata": {
        "id": "sW8tXql_PDb8"
      },
      "execution_count": 128,
      "outputs": []
    },
    {
      "cell_type": "code",
      "source": [
        "# Initializing ANN\n",
        "classifier = Sequential();"
      ],
      "metadata": {
        "id": "voeabJx7Q0Z2"
      },
      "execution_count": 129,
      "outputs": []
    },
    {
      "cell_type": "code",
      "source": [
        "# Adding the Input Layer\n",
        "classifier.add(Dense(units = 11 , activation = 'relu'))"
      ],
      "metadata": {
        "id": "FGBKo_HJR6EU"
      },
      "execution_count": 130,
      "outputs": []
    },
    {
      "cell_type": "code",
      "source": [
        "# Adding the First Hidden Layer\n",
        "classifier.add(Dense(units = 7 , activation = 'relu'))\n",
        "\n",
        "# Adding a Dropout Layer\n",
        "classifier.add(Dropout(0.2))"
      ],
      "metadata": {
        "id": "xlBw5VCZSH79"
      },
      "execution_count": 131,
      "outputs": []
    },
    {
      "cell_type": "code",
      "source": [
        "# Adding the Second Hidden Layer\n",
        "classifier.add(Dense(units = 6 , activation = 'relu'))\n",
        "\n",
        "# Adding a Dropout Layer\n",
        "classifier.add(Dropout(0.3))"
      ],
      "metadata": {
        "id": "OOdP7g4NSRnP"
      },
      "execution_count": 132,
      "outputs": []
    },
    {
      "cell_type": "code",
      "source": [
        "# Adding the Output Layer\n",
        "classifier.add(Dense(units = 1 , activation = 'sigmoid'))"
      ],
      "metadata": {
        "id": "OlQoZmcKSYrA"
      },
      "execution_count": 133,
      "outputs": []
    },
    {
      "cell_type": "code",
      "source": [
        "# OPTIONAL: Adding your own Adam Optimizer with the Learning Rate\n",
        "import tensorflow\n",
        "opt = tensorflow.keras.optimizers.Adam(learning_rate = 0.01)"
      ],
      "metadata": {
        "id": "OLsffVnQTJxm"
      },
      "execution_count": 134,
      "outputs": []
    },
    {
      "cell_type": "code",
      "source": [
        "# Compiling all the layers\n",
        "classifier.compile(optimizer = opt , loss = 'binary_crossentropy' , metrics = ['accuracy'])"
      ],
      "metadata": {
        "id": "cCbG115HSiM2"
      },
      "execution_count": 135,
      "outputs": []
    },
    {
      "cell_type": "code",
      "source": [
        "# Stop training when a monitored metric has stopped improving\n",
        "\n",
        "early_stopping = tf.keras.callbacks.EarlyStopping(\n",
        "    monitor=\"val_loss\",\n",
        "    min_delta=0.0001,\n",
        "    patience=20,\n",
        "    verbose=0,\n",
        "    mode=\"auto\",\n",
        "    baseline=None,\n",
        "    restore_best_weights=False,\n",
        "    start_from_epoch=0,\n",
        ")"
      ],
      "metadata": {
        "id": "nkZwnFtDU7r6"
      },
      "execution_count": 136,
      "outputs": []
    },
    {
      "cell_type": "code",
      "source": [
        "# Fitting the Training Data in the Model\n",
        "model_history = classifier.fit(X_train , y_train , validation_split = 0.33 , batch_size = 10 , epochs = 1000 , callbacks = early_stopping)"
      ],
      "metadata": {
        "colab": {
          "base_uri": "https://localhost:8080/"
        },
        "id": "8XMYdFsWS3Oj",
        "outputId": "416da6fa-0ede-45ad-90ba-66a386391dee"
      },
      "execution_count": 137,
      "outputs": [
        {
          "output_type": "stream",
          "name": "stdout",
          "text": [
            "Epoch 1/1000\n",
            "536/536 [==============================] - 8s 5ms/step - loss: 0.4810 - accuracy: 0.7929 - val_loss: 0.4443 - val_accuracy: 0.7955\n",
            "Epoch 2/1000\n",
            "536/536 [==============================] - 4s 8ms/step - loss: 0.4245 - accuracy: 0.8173 - val_loss: 0.3842 - val_accuracy: 0.8470\n",
            "Epoch 3/1000\n",
            "536/536 [==============================] - 4s 7ms/step - loss: 0.3966 - accuracy: 0.8278 - val_loss: 0.3773 - val_accuracy: 0.8485\n",
            "Epoch 4/1000\n",
            "536/536 [==============================] - 5s 9ms/step - loss: 0.3915 - accuracy: 0.8326 - val_loss: 0.3699 - val_accuracy: 0.8493\n",
            "Epoch 5/1000\n",
            "536/536 [==============================] - 4s 8ms/step - loss: 0.3921 - accuracy: 0.8322 - val_loss: 0.3896 - val_accuracy: 0.8209\n",
            "Epoch 6/1000\n",
            "536/536 [==============================] - 4s 8ms/step - loss: 0.3889 - accuracy: 0.8322 - val_loss: 0.3691 - val_accuracy: 0.8512\n",
            "Epoch 7/1000\n",
            "536/536 [==============================] - 3s 5ms/step - loss: 0.3887 - accuracy: 0.8336 - val_loss: 0.3688 - val_accuracy: 0.8501\n",
            "Epoch 8/1000\n",
            "536/536 [==============================] - 3s 5ms/step - loss: 0.3851 - accuracy: 0.8330 - val_loss: 0.3795 - val_accuracy: 0.8429\n",
            "Epoch 9/1000\n",
            "536/536 [==============================] - 3s 5ms/step - loss: 0.3810 - accuracy: 0.8349 - val_loss: 0.3662 - val_accuracy: 0.8523\n",
            "Epoch 10/1000\n",
            "536/536 [==============================] - 2s 5ms/step - loss: 0.3795 - accuracy: 0.8380 - val_loss: 0.3588 - val_accuracy: 0.8591\n",
            "Epoch 11/1000\n",
            "536/536 [==============================] - 3s 5ms/step - loss: 0.3814 - accuracy: 0.8388 - val_loss: 0.3652 - val_accuracy: 0.8493\n",
            "Epoch 12/1000\n",
            "536/536 [==============================] - 3s 5ms/step - loss: 0.3792 - accuracy: 0.8356 - val_loss: 0.3695 - val_accuracy: 0.8482\n",
            "Epoch 13/1000\n",
            "536/536 [==============================] - 2s 5ms/step - loss: 0.3758 - accuracy: 0.8367 - val_loss: 0.3623 - val_accuracy: 0.8508\n",
            "Epoch 14/1000\n",
            "536/536 [==============================] - 2s 5ms/step - loss: 0.3745 - accuracy: 0.8377 - val_loss: 0.3684 - val_accuracy: 0.8493\n",
            "Epoch 15/1000\n",
            "536/536 [==============================] - 2s 5ms/step - loss: 0.3747 - accuracy: 0.8406 - val_loss: 0.3648 - val_accuracy: 0.8474\n",
            "Epoch 16/1000\n",
            "536/536 [==============================] - 2s 5ms/step - loss: 0.3673 - accuracy: 0.8384 - val_loss: 0.3682 - val_accuracy: 0.8527\n",
            "Epoch 17/1000\n",
            "536/536 [==============================] - 3s 6ms/step - loss: 0.3721 - accuracy: 0.8375 - val_loss: 0.3621 - val_accuracy: 0.8523\n",
            "Epoch 18/1000\n",
            "536/536 [==============================] - 2s 4ms/step - loss: 0.3734 - accuracy: 0.8380 - val_loss: 0.3691 - val_accuracy: 0.8478\n",
            "Epoch 19/1000\n",
            "536/536 [==============================] - 2s 4ms/step - loss: 0.3654 - accuracy: 0.8434 - val_loss: 0.3629 - val_accuracy: 0.8535\n",
            "Epoch 20/1000\n",
            "536/536 [==============================] - 2s 4ms/step - loss: 0.3706 - accuracy: 0.8388 - val_loss: 0.3697 - val_accuracy: 0.8504\n",
            "Epoch 21/1000\n",
            "536/536 [==============================] - 2s 5ms/step - loss: 0.3717 - accuracy: 0.8365 - val_loss: 0.3865 - val_accuracy: 0.8448\n",
            "Epoch 22/1000\n",
            "536/536 [==============================] - 3s 6ms/step - loss: 0.3778 - accuracy: 0.8380 - val_loss: 0.3635 - val_accuracy: 0.8516\n",
            "Epoch 23/1000\n",
            "536/536 [==============================] - 2s 5ms/step - loss: 0.3704 - accuracy: 0.8399 - val_loss: 0.3731 - val_accuracy: 0.8444\n",
            "Epoch 24/1000\n",
            "536/536 [==============================] - 2s 4ms/step - loss: 0.3729 - accuracy: 0.8371 - val_loss: 0.3662 - val_accuracy: 0.8565\n",
            "Epoch 25/1000\n",
            "536/536 [==============================] - 3s 5ms/step - loss: 0.3680 - accuracy: 0.8419 - val_loss: 0.3735 - val_accuracy: 0.8466\n",
            "Epoch 26/1000\n",
            "536/536 [==============================] - 3s 5ms/step - loss: 0.3684 - accuracy: 0.8375 - val_loss: 0.3631 - val_accuracy: 0.8516\n",
            "Epoch 27/1000\n",
            "536/536 [==============================] - 3s 6ms/step - loss: 0.3670 - accuracy: 0.8410 - val_loss: 0.3596 - val_accuracy: 0.8542\n",
            "Epoch 28/1000\n",
            "536/536 [==============================] - 2s 5ms/step - loss: 0.3740 - accuracy: 0.8365 - val_loss: 0.3731 - val_accuracy: 0.8485\n",
            "Epoch 29/1000\n",
            "536/536 [==============================] - 2s 5ms/step - loss: 0.3699 - accuracy: 0.8410 - val_loss: 0.3577 - val_accuracy: 0.8501\n",
            "Epoch 30/1000\n",
            "536/536 [==============================] - 2s 5ms/step - loss: 0.3758 - accuracy: 0.8360 - val_loss: 0.3599 - val_accuracy: 0.8561\n",
            "Epoch 31/1000\n",
            "536/536 [==============================] - 3s 5ms/step - loss: 0.3677 - accuracy: 0.8406 - val_loss: 0.3574 - val_accuracy: 0.8550\n",
            "Epoch 32/1000\n",
            "536/536 [==============================] - 3s 5ms/step - loss: 0.3686 - accuracy: 0.8412 - val_loss: 0.3561 - val_accuracy: 0.8546\n",
            "Epoch 33/1000\n",
            "536/536 [==============================] - 3s 5ms/step - loss: 0.3691 - accuracy: 0.8403 - val_loss: 0.3594 - val_accuracy: 0.8519\n",
            "Epoch 34/1000\n",
            "536/536 [==============================] - 2s 5ms/step - loss: 0.3663 - accuracy: 0.8360 - val_loss: 0.3661 - val_accuracy: 0.8516\n",
            "Epoch 35/1000\n",
            "536/536 [==============================] - 2s 4ms/step - loss: 0.3667 - accuracy: 0.8362 - val_loss: 0.3679 - val_accuracy: 0.8538\n",
            "Epoch 36/1000\n",
            "536/536 [==============================] - 3s 6ms/step - loss: 0.3661 - accuracy: 0.8373 - val_loss: 0.3658 - val_accuracy: 0.8489\n",
            "Epoch 37/1000\n",
            "536/536 [==============================] - 2s 4ms/step - loss: 0.3724 - accuracy: 0.8347 - val_loss: 0.3751 - val_accuracy: 0.8455\n",
            "Epoch 38/1000\n",
            "536/536 [==============================] - 2s 4ms/step - loss: 0.3623 - accuracy: 0.8384 - val_loss: 0.3790 - val_accuracy: 0.8565\n",
            "Epoch 39/1000\n",
            "536/536 [==============================] - 2s 5ms/step - loss: 0.3617 - accuracy: 0.8418 - val_loss: 0.3598 - val_accuracy: 0.8538\n",
            "Epoch 40/1000\n",
            "536/536 [==============================] - 2s 4ms/step - loss: 0.3666 - accuracy: 0.8373 - val_loss: 0.3636 - val_accuracy: 0.8542\n",
            "Epoch 41/1000\n",
            "536/536 [==============================] - 4s 7ms/step - loss: 0.3727 - accuracy: 0.8369 - val_loss: 0.3713 - val_accuracy: 0.8459\n",
            "Epoch 42/1000\n",
            "536/536 [==============================] - 2s 5ms/step - loss: 0.3665 - accuracy: 0.8384 - val_loss: 0.3638 - val_accuracy: 0.8542\n",
            "Epoch 43/1000\n",
            "536/536 [==============================] - 2s 4ms/step - loss: 0.3611 - accuracy: 0.8390 - val_loss: 0.3686 - val_accuracy: 0.8482\n",
            "Epoch 44/1000\n",
            "536/536 [==============================] - 3s 5ms/step - loss: 0.3618 - accuracy: 0.8440 - val_loss: 0.3616 - val_accuracy: 0.8527\n",
            "Epoch 45/1000\n",
            "536/536 [==============================] - 3s 6ms/step - loss: 0.3629 - accuracy: 0.8401 - val_loss: 0.3679 - val_accuracy: 0.8550\n",
            "Epoch 46/1000\n",
            "536/536 [==============================] - 3s 5ms/step - loss: 0.3626 - accuracy: 0.8375 - val_loss: 0.3700 - val_accuracy: 0.8523\n",
            "Epoch 47/1000\n",
            "536/536 [==============================] - 2s 4ms/step - loss: 0.3676 - accuracy: 0.8347 - val_loss: 0.3698 - val_accuracy: 0.8444\n",
            "Epoch 48/1000\n",
            "536/536 [==============================] - 2s 4ms/step - loss: 0.3688 - accuracy: 0.8358 - val_loss: 0.3737 - val_accuracy: 0.8501\n",
            "Epoch 49/1000\n",
            "536/536 [==============================] - 2s 4ms/step - loss: 0.3597 - accuracy: 0.8436 - val_loss: 0.3733 - val_accuracy: 0.8504\n",
            "Epoch 50/1000\n",
            "536/536 [==============================] - 4s 7ms/step - loss: 0.3707 - accuracy: 0.8386 - val_loss: 0.3875 - val_accuracy: 0.8455\n",
            "Epoch 51/1000\n",
            "536/536 [==============================] - 3s 5ms/step - loss: 0.3617 - accuracy: 0.8405 - val_loss: 0.3994 - val_accuracy: 0.8516\n",
            "Epoch 52/1000\n",
            "536/536 [==============================] - 2s 4ms/step - loss: 0.3653 - accuracy: 0.8306 - val_loss: 0.3857 - val_accuracy: 0.8519\n"
          ]
        }
      ]
    },
    {
      "cell_type": "code",
      "source": [
        "# See Model History - Params we have focused on \n",
        "model_history.history.keys()"
      ],
      "metadata": {
        "colab": {
          "base_uri": "https://localhost:8080/"
        },
        "id": "upcvGqPDUBs6",
        "outputId": "b6b687e2-d981-4515-dcb3-a4f4e0fcc446"
      },
      "execution_count": 138,
      "outputs": [
        {
          "output_type": "execute_result",
          "data": {
            "text/plain": [
              "dict_keys(['loss', 'accuracy', 'val_loss', 'val_accuracy'])"
            ]
          },
          "metadata": {},
          "execution_count": 138
        }
      ]
    },
    {
      "cell_type": "code",
      "source": [
        "# Plotting Accuracy vs Epochs\n",
        "plt.plot(model_history.history['accuracy'])\n",
        "plt.plot(model_history.history['val_accuracy'])\n",
        "plt.title(\"Model Accuracy\")\n",
        "plt.xlabel('Epoch')\n",
        "plt.ylabel('Accuracy')\n",
        "plt.legend(['test' , 'train'] , loc = 'upper left')\n",
        "plt.show()"
      ],
      "metadata": {
        "colab": {
          "base_uri": "https://localhost:8080/",
          "height": 295
        },
        "id": "YHInR0T4V1a8",
        "outputId": "18ede50f-fe30-44c9-fe41-080de98c1bfb"
      },
      "execution_count": 139,
      "outputs": [
        {
          "output_type": "display_data",
          "data": {
            "text/plain": [
              "<Figure size 432x288 with 1 Axes>"
            ],
            "image/png": "[encoded data removed]"
          },
          "metadata": {
            "needs_background": "light"
          }
        }
      ]
    },
    {
      "cell_type": "code",
      "source": [
        "# Plotting Loss vs Epochs\n",
        "plt.plot(model_history.history['loss'])\n",
        "plt.plot(model_history.history['val_loss'])\n",
        "plt.title(\"Model Loss\")\n",
        "plt.xlabel('Epoch')\n",
        "plt.ylabel('Loss')\n",
        "plt.legend(['test' , 'train'] , loc = 'upper left')\n",
        "plt.show()"
      ],
      "metadata": {
        "colab": {
          "base_uri": "https://localhost:8080/",
          "height": 295
        },
        "id": "y6rgYMJuWLb-",
        "outputId": "79398811-62d0-41a3-82af-07572a5253de"
      },
      "execution_count": 140,
      "outputs": [
        {
          "output_type": "display_data",
          "data": {
            "text/plain": [
              "<Figure size 432x288 with 1 Axes>"
            ],
            "image/png": "[encoded data removed]"
          },
          "metadata": {
            "needs_background": "light"
          }
        }
      ]
    },
    {
      "cell_type": "markdown",
      "source": [
        "Part 3 : Predicting Values"
      ],
      "metadata": {
        "id": "4t9jn2iFXh5X"
      }
    },
    {
      "cell_type": "code",
      "source": [
        "# Predicting the Prediction Values\n",
        "y_pred = classifier.predict(X_test)\n",
        "y_pred = (y_pred >= 0.5)"
      ],
      "metadata": {
        "colab": {
          "base_uri": "https://localhost:8080/"
        },
        "id": "Fg4s4012XbWe",
        "outputId": "11d9bd4d-25fa-4be4-8244-4433c507b371"
      },
      "execution_count": 141,
      "outputs": [
        {
          "output_type": "stream",
          "name": "stdout",
          "text": [
            "63/63 [==============================] - 0s 2ms/step\n"
          ]
        }
      ]
    },
    {
      "cell_type": "code",
      "source": [
        "# Creating the Confusing Matrix\n",
        "from sklearn.metrics import confusion_matrix\n",
        "cm = confusion_matrix(y_test , y_pred)\n",
        "cm"
      ],
      "metadata": {
        "colab": {
          "base_uri": "https://localhost:8080/"
        },
        "id": "hKMto1L5Xt_l",
        "outputId": "fbbd4bb6-a814-4885-def9-f6f0f6fcc0da"
      },
      "execution_count": 142,
      "outputs": [
        {
          "output_type": "execute_result",
          "data": {
            "text/plain": [
              "array([[1538,   57],\n",
              "       [ 224,  181]])"
            ]
          },
          "metadata": {},
          "execution_count": 142
        }
      ]
    },
    {
      "cell_type": "code",
      "source": [
        "# Checking the Accuracy\n",
        "from sklearn.metrics import accuracy_score\n",
        "score = accuracy_score(y_test , y_pred)\n",
        "score"
      ],
      "metadata": {
        "colab": {
          "base_uri": "https://localhost:8080/"
        },
        "id": "W3Ml7PgLYFBG",
        "outputId": "2984dc84-953e-4463-e400-d9a7310ecbfc"
      },
      "execution_count": 143,
      "outputs": [
        {
          "output_type": "execute_result",
          "data": {
            "text/plain": [
              "0.8595"
            ]
          },
          "metadata": {},
          "execution_count": 143
        }
      ]
    },
    {
      "cell_type": "markdown",
      "source": [
        "Additional"
      ],
      "metadata": {
        "id": "DRbOVerEZLvS"
      }
    },
    {
      "cell_type": "code",
      "source": [
        "# Getting the Weights used by all the ANNs\n",
        "classifier.get_weights()"
      ],
      "metadata": {
        "colab": {
          "base_uri": "https://localhost:8080/"
        },
        "id": "HqtLMPu8YGfW",
        "outputId": "2670f265-d400-451f-d3f2-7c447e30473f"
      },
      "execution_count": 144,
      "outputs": [
        {
          "output_type": "execute_result",
          "data": {
            "text/plain": [
              "[array([[-6.12616181e-01, -3.12108904e-01, -3.50469619e-01,\n",
              "          1.42286301e+00, -1.17392614e-01,  2.35558704e-01,\n",
              "          6.09293282e-01,  7.07424060e-02,  3.28863710e-02,\n",
              "         -7.27337182e-01,  3.91732752e-01],\n",
              "        [ 1.53529525e+00,  4.80964959e-01,  1.32830846e+00,\n",
              "         -4.27894205e-01, -1.86037138e-01, -2.04398322e+00,\n",
              "          2.24353600e+00,  2.02586675e+00, -3.01829624e+00,\n",
              "         -1.19422048e-01, -1.31511366e+00],\n",
              "        [ 6.58683002e-01,  1.47584692e-01,  5.44783771e-01,\n",
              "          1.40481554e-02,  2.21431330e-01,  2.63339728e-01,\n",
              "          5.00939906e-01, -5.02809703e-01,  4.54052448e-01,\n",
              "         -8.91346782e-02,  9.92246449e-01],\n",
              "        [-2.20934853e-01,  5.15867889e-01, -3.01547885e+00,\n",
              "         -6.86401248e-01, -1.78380311e-01, -1.95365384e-01,\n",
              "         -1.01188338e+00,  8.56120527e-01, -6.49161637e-01,\n",
              "         -1.61052370e+00, -2.15450764e+00],\n",
              "        [ 4.34711993e-01,  4.08431721e+00, -4.19809532e+00,\n",
              "          3.35407138e-01, -7.77689666e-02, -1.90326035e+00,\n",
              "          3.30498740e-02,  4.10895228e-01,  4.39903021e-01,\n",
              "          1.11762071e+00,  7.13832378e-01],\n",
              "        [-6.21783398e-02, -1.35224938e-01, -5.68155050e-01,\n",
              "          1.35545564e+00,  3.77135002e-03, -2.50299964e-02,\n",
              "          1.24309666e-01, -4.63825107e-01, -1.09868437e-01,\n",
              "          1.89305976e-01, -8.80817294e-01],\n",
              "        [ 2.23281240e+00,  4.96476963e-02, -4.83584553e-01,\n",
              "          1.24219847e+00,  4.52856988e-01, -7.74289787e-01,\n",
              "          1.01358747e+00, -1.59242725e+00,  3.47883731e-01,\n",
              "          2.00400043e+00, -7.03212142e-01],\n",
              "        [-7.30083406e-01,  1.40076414e-01,  2.38919303e-01,\n",
              "          1.33670974e+00, -1.90117899e-02,  3.04008126e-01,\n",
              "          3.79252821e-01, -2.01637179e-01, -2.75251806e-01,\n",
              "          1.07029653e+00, -1.33559537e+00],\n",
              "        [ 1.78097654e-02, -2.62676418e-01,  1.84741294e+00,\n",
              "          4.86404806e-01, -2.61504173e-01,  5.79007685e-01,\n",
              "          2.06892475e-01, -3.97237837e-01, -5.59252739e-01,\n",
              "          6.70726299e-01, -9.90276132e-03],\n",
              "        [ 6.75451577e-01,  6.48647547e-01, -3.51958871e-01,\n",
              "          4.14786488e-01,  6.92666098e-02,  9.68275905e-01,\n",
              "         -1.54653624e-01, -9.90890265e-02,  2.31810898e-01,\n",
              "          9.98169556e-02, -5.68451107e-01],\n",
              "        [ 7.38965929e-01, -2.05043927e-01, -4.53859061e-01,\n",
              "          4.44636583e-01,  1.42829955e-01, -4.15106773e-01,\n",
              "          1.40596986e-01,  4.86142993e-01,  3.29644561e-01,\n",
              "          5.55646777e-01,  1.59085369e+00]], dtype=float32),\n",
              " array([-3.5353637, -4.774573 , -1.3565403, -2.2402055, -1.7813427,\n",
              "        -3.545942 , -4.9802957, -3.6059597,  2.9333608, -3.570084 ,\n",
              "        -3.6235461], dtype=float32),\n",
              " array([[-0.6326746 , -0.7400617 , -2.2261198 , -0.02738155, -0.14600244,\n",
              "         -0.06512807, -0.79143864],\n",
              "        [-0.4185874 ,  3.2662938 ,  3.2833755 , -1.1407773 , -2.3217478 ,\n",
              "         -1.7092247 ,  2.8038106 ],\n",
              "        [-0.2767442 ,  1.105711  ,  0.8135829 , -1.815854  , -2.505008  ,\n",
              "         -3.3722198 ,  1.2678808 ],\n",
              "        [-0.31772867, -0.8581387 , -0.11136555,  0.3805562 ,  0.32000637,\n",
              "          0.7957367 , -0.55389977],\n",
              "        [ 0.23281012, -0.2818085 ,  0.19653922,  0.10233836, -0.2689374 ,\n",
              "         -0.08808092,  0.09983402],\n",
              "        [-0.08889002, -0.7634046 , -0.5919485 , -0.82281446, -0.7401562 ,\n",
              "         -0.93282133,  0.41898018],\n",
              "        [-0.28305718, -4.271392  , -1.9850385 ,  2.0944872 ,  2.0693583 ,\n",
              "          1.5025839 , -2.949727  ],\n",
              "        [-0.54105306,  1.2898586 ,  0.77255315,  0.05504857,  0.05751174,\n",
              "         -1.0516343 ,  0.1925119 ],\n",
              "        [-0.6310702 , -1.735142  , -1.2150632 ,  0.38916117, -0.02265028,\n",
              "          0.20910388, -1.2316658 ],\n",
              "        [-0.23303647, -0.7222577 ,  0.35712928,  0.58554566,  1.5960809 ,\n",
              "          0.95237565,  0.06697802],\n",
              "        [ 0.00577136, -1.5445559 , -2.677712  ,  0.7061601 ,  1.6956036 ,\n",
              "          1.2887045 , -1.1888148 ]], dtype=float32),\n",
              " array([-0.41691706, -0.6336818 , -0.46611002, -0.3213431 , -1.3221408 ,\n",
              "        -0.36378473,  1.0204338 ], dtype=float32),\n",
              " array([[-3.8434929e-01, -1.9936498e-01, -1.8303299e-01,  2.2936780e-03,\n",
              "         -1.5915948e-01, -2.6785452e-02],\n",
              "        [-1.8190207e+00,  3.5646790e-01, -2.6346538e+00, -1.6130524e+00,\n",
              "         -2.5527158e+00, -1.4418367e+00],\n",
              "        [-1.4311661e+00,  4.0141892e-01, -1.4951967e+00, -7.9821545e-01,\n",
              "         -2.8472800e+00, -7.1073514e-01],\n",
              "        [ 1.1073349e-01, -7.1164173e-01,  1.6421825e-01, -1.8442933e-02,\n",
              "          9.6188143e-02,  2.5747585e-01],\n",
              "        [ 7.3459530e-01, -7.2105247e-01,  5.2359551e-01,  6.2083417e-01,\n",
              "          4.5219624e-01,  8.3480912e-01],\n",
              "        [ 2.8854752e-01, -6.2273586e-01,  1.9501844e-01,  3.1009045e-01,\n",
              "          1.5403177e-01,  2.2012238e-01],\n",
              "        [-2.4725542e+00,  3.8495421e-02, -2.3078182e-01, -3.6184213e-01,\n",
              "         -7.7446353e-01, -2.4729712e-01]], dtype=float32),\n",
              " array([ 0.86948085, -0.9457873 ,  0.813684  ,  0.84552723,  0.7430286 ,\n",
              "         0.90182686], dtype=float32),\n",
              " array([[-0.37112737],\n",
              "        [ 0.16139017],\n",
              "        [-0.21860063],\n",
              "        [-0.22238696],\n",
              "        [-0.23801458],\n",
              "        [-0.22688673]], dtype=float32),\n",
              " array([-0.19153668], dtype=float32)]"
            ]
          },
          "metadata": {},
          "execution_count": 144
        }
      ]
    }
  ]
}