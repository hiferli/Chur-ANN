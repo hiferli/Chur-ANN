{
  "nbformat": 4,
  "nbformat_minor": 0,
  "metadata": {
    "colab": {
      "provenance": []
    },
    "kernelspec": {
      "name": "python3",
      "display_name": "Python 3"
    },
    "language_info": {
      "name": "python"
    },
    "accelerator": "GPU",
    "gpuClass": "standard"
  },
  "cells": [
    {
      "cell_type": "markdown",
      "source": [
        "# Using ANNs "
      ],
      "metadata": {
        "id": "DnWAtn7vZ9zt"
      }
    },
    {
      "cell_type": "markdown",
      "source": [
        "Part 0 : Importing Libraries"
      ],
      "metadata": {
        "id": "l45p0AUhQYXU"
      }
    },
    {
      "cell_type": "code",
      "execution_count": 64,
      "metadata": {
        "colab": {
          "base_uri": "https://localhost:8080/"
        },
        "id": "rUXY2SO0KW2H",
        "outputId": "d60aef8d-099d-4644-891e-9c1adc4fc9e6"
      },
      "outputs": [
        {
          "output_type": "stream",
          "name": "stdout",
          "text": [
            "Looking in indexes: https://pypi.org/simple, https://us-python.pkg.dev/colab-wheels/public/simple/\n",
            "Requirement already satisfied: tensorflow in /usr/local/lib/python3.9/dist-packages (2.11.0)\n",
            "Requirement already satisfied: astunparse>=1.6.0 in /usr/local/lib/python3.9/dist-packages (from tensorflow) (1.6.3)\n",
            "Requirement already satisfied: opt-einsum>=2.3.2 in /usr/local/lib/python3.9/dist-packages (from tensorflow) (3.3.0)\n",
            "Requirement already satisfied: packaging in /usr/local/lib/python3.9/dist-packages (from tensorflow) (23.0)\n",
            "Requirement already satisfied: six>=1.12.0 in /usr/local/lib/python3.9/dist-packages (from tensorflow) (1.16.0)\n",
            "Requirement already satisfied: absl-py>=1.0.0 in /usr/local/lib/python3.9/dist-packages (from tensorflow) (1.4.0)\n",
            "Requirement already satisfied: termcolor>=1.1.0 in /usr/local/lib/python3.9/dist-packages (from tensorflow) (2.2.0)\n",
            "Requirement already satisfied: libclang>=13.0.0 in /usr/local/lib/python3.9/dist-packages (from tensorflow) (15.0.6.1)\n",
            "Requirement already satisfied: protobuf<3.20,>=3.9.2 in /usr/local/lib/python3.9/dist-packages (from tensorflow) (3.19.6)\n",
            "Requirement already satisfied: grpcio<2.0,>=1.24.3 in /usr/local/lib/python3.9/dist-packages (from tensorflow) (1.51.3)\n",
            "Requirement already satisfied: setuptools in /usr/local/lib/python3.9/dist-packages (from tensorflow) (67.6.0)\n",
            "Requirement already satisfied: google-pasta>=0.1.1 in /usr/local/lib/python3.9/dist-packages (from tensorflow) (0.2.0)\n",
            "Requirement already satisfied: tensorflow-estimator<2.12,>=2.11.0 in /usr/local/lib/python3.9/dist-packages (from tensorflow) (2.11.0)\n",
            "Requirement already satisfied: flatbuffers>=2.0 in /usr/local/lib/python3.9/dist-packages (from tensorflow) (23.3.3)\n",
            "Requirement already satisfied: tensorboard<2.12,>=2.11 in /usr/local/lib/python3.9/dist-packages (from tensorflow) (2.11.2)\n",
            "Requirement already satisfied: h5py>=2.9.0 in /usr/local/lib/python3.9/dist-packages (from tensorflow) (3.8.0)\n",
            "Requirement already satisfied: tensorflow-io-gcs-filesystem>=0.23.1 in /usr/local/lib/python3.9/dist-packages (from tensorflow) (0.31.0)\n",
            "Requirement already satisfied: numpy>=1.20 in /usr/local/lib/python3.9/dist-packages (from tensorflow) (1.22.4)\n",
            "Requirement already satisfied: typing-extensions>=3.6.6 in /usr/local/lib/python3.9/dist-packages (from tensorflow) (4.5.0)\n",
            "Requirement already satisfied: gast<=0.4.0,>=0.2.1 in /usr/local/lib/python3.9/dist-packages (from tensorflow) (0.4.0)\n",
            "Requirement already satisfied: keras<2.12,>=2.11.0 in /usr/local/lib/python3.9/dist-packages (from tensorflow) (2.11.0)\n",
            "Requirement already satisfied: wrapt>=1.11.0 in /usr/local/lib/python3.9/dist-packages (from tensorflow) (1.15.0)\n",
            "Requirement already satisfied: wheel<1.0,>=0.23.0 in /usr/local/lib/python3.9/dist-packages (from astunparse>=1.6.0->tensorflow) (0.40.0)\n",
            "Requirement already satisfied: markdown>=2.6.8 in /usr/local/lib/python3.9/dist-packages (from tensorboard<2.12,>=2.11->tensorflow) (3.4.2)\n",
            "Requirement already satisfied: werkzeug>=1.0.1 in /usr/local/lib/python3.9/dist-packages (from tensorboard<2.12,>=2.11->tensorflow) (2.2.3)\n",
            "Requirement already satisfied: google-auth<3,>=1.6.3 in /usr/local/lib/python3.9/dist-packages (from tensorboard<2.12,>=2.11->tensorflow) (2.16.2)\n",
            "Requirement already satisfied: requests<3,>=2.21.0 in /usr/local/lib/python3.9/dist-packages (from tensorboard<2.12,>=2.11->tensorflow) (2.27.1)\n",
            "Requirement already satisfied: tensorboard-plugin-wit>=1.6.0 in /usr/local/lib/python3.9/dist-packages (from tensorboard<2.12,>=2.11->tensorflow) (1.8.1)\n",
            "Requirement already satisfied: google-auth-oauthlib<0.5,>=0.4.1 in /usr/local/lib/python3.9/dist-packages (from tensorboard<2.12,>=2.11->tensorflow) (0.4.6)\n",
            "Requirement already satisfied: tensorboard-data-server<0.7.0,>=0.6.0 in /usr/local/lib/python3.9/dist-packages (from tensorboard<2.12,>=2.11->tensorflow) (0.6.1)\n",
            "Requirement already satisfied: cachetools<6.0,>=2.0.0 in /usr/local/lib/python3.9/dist-packages (from google-auth<3,>=1.6.3->tensorboard<2.12,>=2.11->tensorflow) (5.3.0)\n",
            "Requirement already satisfied: rsa<5,>=3.1.4 in /usr/local/lib/python3.9/dist-packages (from google-auth<3,>=1.6.3->tensorboard<2.12,>=2.11->tensorflow) (4.9)\n",
            "Requirement already satisfied: pyasn1-modules>=0.2.1 in /usr/local/lib/python3.9/dist-packages (from google-auth<3,>=1.6.3->tensorboard<2.12,>=2.11->tensorflow) (0.2.8)\n",
            "Requirement already satisfied: requests-oauthlib>=0.7.0 in /usr/local/lib/python3.9/dist-packages (from google-auth-oauthlib<0.5,>=0.4.1->tensorboard<2.12,>=2.11->tensorflow) (1.3.1)\n",
            "Requirement already satisfied: importlib-metadata>=4.4 in /usr/local/lib/python3.9/dist-packages (from markdown>=2.6.8->tensorboard<2.12,>=2.11->tensorflow) (6.1.0)\n",
            "Requirement already satisfied: charset-normalizer~=2.0.0 in /usr/local/lib/python3.9/dist-packages (from requests<3,>=2.21.0->tensorboard<2.12,>=2.11->tensorflow) (2.0.12)\n",
            "Requirement already satisfied: idna<4,>=2.5 in /usr/local/lib/python3.9/dist-packages (from requests<3,>=2.21.0->tensorboard<2.12,>=2.11->tensorflow) (3.4)\n",
            "Requirement already satisfied: certifi>=2017.4.17 in /usr/local/lib/python3.9/dist-packages (from requests<3,>=2.21.0->tensorboard<2.12,>=2.11->tensorflow) (2022.12.7)\n",
            "Requirement already satisfied: urllib3<1.27,>=1.21.1 in /usr/local/lib/python3.9/dist-packages (from requests<3,>=2.21.0->tensorboard<2.12,>=2.11->tensorflow) (1.26.15)\n",
            "Requirement already satisfied: MarkupSafe>=2.1.1 in /usr/local/lib/python3.9/dist-packages (from werkzeug>=1.0.1->tensorboard<2.12,>=2.11->tensorflow) (2.1.2)\n",
            "Requirement already satisfied: zipp>=0.5 in /usr/local/lib/python3.9/dist-packages (from importlib-metadata>=4.4->markdown>=2.6.8->tensorboard<2.12,>=2.11->tensorflow) (3.15.0)\n",
            "Requirement already satisfied: pyasn1<0.5.0,>=0.4.6 in /usr/local/lib/python3.9/dist-packages (from pyasn1-modules>=0.2.1->google-auth<3,>=1.6.3->tensorboard<2.12,>=2.11->tensorflow) (0.4.8)\n",
            "Requirement already satisfied: oauthlib>=3.0.0 in /usr/local/lib/python3.9/dist-packages (from requests-oauthlib>=0.7.0->google-auth-oauthlib<0.5,>=0.4.1->tensorboard<2.12,>=2.11->tensorflow) (3.2.2)\n"
          ]
        }
      ],
      "source": [
        "!pip install tensorflow"
      ]
    },
    {
      "cell_type": "code",
      "source": [
        "import tensorflow as tf\n",
        "print(tf.__version__)"
      ],
      "metadata": {
        "colab": {
          "base_uri": "https://localhost:8080/"
        },
        "id": "AWKOorzgK02y",
        "outputId": "5c4f7fd8-4034-48dd-a040-1061aa507ced"
      },
      "execution_count": 65,
      "outputs": [
        {
          "output_type": "stream",
          "name": "stdout",
          "text": [
            "2.11.0\n"
          ]
        }
      ]
    },
    {
      "cell_type": "code",
      "source": [
        "# Importing Basic Libraries\n",
        "import numpy as np\n",
        "import pandas as pd\n",
        "import matplotlib.pyplot as plt"
      ],
      "metadata": {
        "id": "0WUCUnn8LTDV"
      },
      "execution_count": 66,
      "outputs": []
    },
    {
      "cell_type": "markdown",
      "source": [
        "Part 1 : Working on the Dataset "
      ],
      "metadata": {
        "id": "LaDX5tG0QS0O"
      }
    },
    {
      "cell_type": "code",
      "source": [
        "# Link to the Dataset: https://drive.google.com/file/d/1ZRXIpzLhbtBccjauzROH5AuY3aZl7faW/view\n",
        "dataset = pd.read_csv('Churn_Modelling.csv')\n",
        "dataset.head()"
      ],
      "metadata": {
        "colab": {
          "base_uri": "https://localhost:8080/",
          "height": 206
        },
        "id": "HAsvnirFLejX",
        "outputId": "a3a5dcd3-3806-4f59-e734-cd9f3844ec42"
      },
      "execution_count": 114,
      "outputs": [
        {
          "output_type": "execute_result",
          "data": {
            "text/plain": [
              "   RowNumber  CustomerId   Surname  CreditScore Geography  Gender  Age  \\\n",
              "0          1    15634602  Hargrave          619    France  Female   42   \n",
              "1          2    15647311      Hill          608     Spain  Female   41   \n",
              "2          3    15619304      Onio          502    France  Female   42   \n",
              "3          4    15701354      Boni          699    France  Female   39   \n",
              "4          5    15737888  Mitchell          850     Spain  Female   43   \n",
              "\n",
              "   Tenure    Balance  NumOfProducts  HasCrCard  IsActiveMember  \\\n",
              "0       2       0.00              1          1               1   \n",
              "1       1   83807.86              1          0               1   \n",
              "2       8  159660.80              3          1               0   \n",
              "3       1       0.00              2          0               0   \n",
              "4       2  125510.82              1          1               1   \n",
              "\n",
              "   EstimatedSalary  Exited  \n",
              "0        101348.88       1  \n",
              "1        112542.58       0  \n",
              "2        113931.57       1  \n",
              "3         93826.63       0  \n",
              "4         79084.10       0  "
            ],
            "text/html": [
              "\n",
              "  <div id=\"df-39fe9ceb-d252-4504-92fc-42f764c520fd\">\n",
              "    <div class=\"colab-df-container\">\n",
              "      <div>\n",
              "<style scoped>\n",
              "    .dataframe tbody tr th:only-of-type {\n",
              "        vertical-align: middle;\n",
              "    }\n",
              "\n",
              "    .dataframe tbody tr th {\n",
              "        vertical-align: top;\n",
              "    }\n",
              "\n",
              "    .dataframe thead th {\n",
              "        text-align: right;\n",
              "    }\n",
              "</style>\n",
              "<table border=\"1\" class=\"dataframe\">\n",
              "  <thead>\n",
              "    <tr style=\"text-align: right;\">\n",
              "      <th></th>\n",
              "      <th>RowNumber</th>\n",
              "      <th>CustomerId</th>\n",
              "      <th>Surname</th>\n",
              "      <th>CreditScore</th>\n",
              "      <th>Geography</th>\n",
              "      <th>Gender</th>\n",
              "      <th>Age</th>\n",
              "      <th>Tenure</th>\n",
              "      <th>Balance</th>\n",
              "      <th>NumOfProducts</th>\n",
              "      <th>HasCrCard</th>\n",
              "      <th>IsActiveMember</th>\n",
              "      <th>EstimatedSalary</th>\n",
              "      <th>Exited</th>\n",
              "    </tr>\n",
              "  </thead>\n",
              "  <tbody>\n",
              "    <tr>\n",
              "      <th>0</th>\n",
              "      <td>1</td>\n",
              "      <td>15634602</td>\n",
              "      <td>Hargrave</td>\n",
              "      <td>619</td>\n",
              "      <td>France</td>\n",
              "      <td>Female</td>\n",
              "      <td>42</td>\n",
              "      <td>2</td>\n",
              "      <td>0.00</td>\n",
              "      <td>1</td>\n",
              "      <td>1</td>\n",
              "      <td>1</td>\n",
              "      <td>101348.88</td>\n",
              "      <td>1</td>\n",
              "    </tr>\n",
              "    <tr>\n",
              "      <th>1</th>\n",
              "      <td>2</td>\n",
              "      <td>15647311</td>\n",
              "      <td>Hill</td>\n",
              "      <td>608</td>\n",
              "      <td>Spain</td>\n",
              "      <td>Female</td>\n",
              "      <td>41</td>\n",
              "      <td>1</td>\n",
              "      <td>83807.86</td>\n",
              "      <td>1</td>\n",
              "      <td>0</td>\n",
              "      <td>1</td>\n",
              "      <td>112542.58</td>\n",
              "      <td>0</td>\n",
              "    </tr>\n",
              "    <tr>\n",
              "      <th>2</th>\n",
              "      <td>3</td>\n",
              "      <td>15619304</td>\n",
              "      <td>Onio</td>\n",
              "      <td>502</td>\n",
              "      <td>France</td>\n",
              "      <td>Female</td>\n",
              "      <td>42</td>\n",
              "      <td>8</td>\n",
              "      <td>159660.80</td>\n",
              "      <td>3</td>\n",
              "      <td>1</td>\n",
              "      <td>0</td>\n",
              "      <td>113931.57</td>\n",
              "      <td>1</td>\n",
              "    </tr>\n",
              "    <tr>\n",
              "      <th>3</th>\n",
              "      <td>4</td>\n",
              "      <td>15701354</td>\n",
              "      <td>Boni</td>\n",
              "      <td>699</td>\n",
              "      <td>France</td>\n",
              "      <td>Female</td>\n",
              "      <td>39</td>\n",
              "      <td>1</td>\n",
              "      <td>0.00</td>\n",
              "      <td>2</td>\n",
              "      <td>0</td>\n",
              "      <td>0</td>\n",
              "      <td>93826.63</td>\n",
              "      <td>0</td>\n",
              "    </tr>\n",
              "    <tr>\n",
              "      <th>4</th>\n",
              "      <td>5</td>\n",
              "      <td>15737888</td>\n",
              "      <td>Mitchell</td>\n",
              "      <td>850</td>\n",
              "      <td>Spain</td>\n",
              "      <td>Female</td>\n",
              "      <td>43</td>\n",
              "      <td>2</td>\n",
              "      <td>125510.82</td>\n",
              "      <td>1</td>\n",
              "      <td>1</td>\n",
              "      <td>1</td>\n",
              "      <td>79084.10</td>\n",
              "      <td>0</td>\n",
              "    </tr>\n",
              "  </tbody>\n",
              "</table>\n",
              "</div>\n",
              "      <button class=\"colab-df-convert\" onclick=\"convertToInteractive('df-39fe9ceb-d252-4504-92fc-42f764c520fd')\"\n",
              "              title=\"Convert this dataframe to an interactive table.\"\n",
              "              style=\"display:none;\">\n",
              "        \n",
              "  <svg xmlns=\"http://www.w3.org/2000/svg\" height=\"24px\"viewBox=\"0 0 24 24\"\n",
              "       width=\"24px\">\n",
              "    <path d=\"M0 0h24v24H0V0z\" fill=\"none\"/>\n",
              "    <path d=\"M18.56 5.44l.94 2.06.94-2.06 2.06-.94-2.06-.94-.94-2.06-.94 2.06-2.06.94zm-11 1L8.5 8.5l.94-2.06 2.06-.94-2.06-.94L8.5 2.5l-.94 2.06-2.06.94zm10 10l.94 2.06.94-2.06 2.06-.94-2.06-.94-.94-2.06-.94 2.06-2.06.94z\"/><path d=\"M17.41 7.96l-1.37-1.37c-.4-.4-.92-.59-1.43-.59-.52 0-1.04.2-1.43.59L10.3 9.45l-7.72 7.72c-.78.78-.78 2.05 0 2.83L4 21.41c.39.39.9.59 1.41.59.51 0 1.02-.2 1.41-.59l7.78-7.78 2.81-2.81c.8-.78.8-2.07 0-2.86zM5.41 20L4 18.59l7.72-7.72 1.47 1.35L5.41 20z\"/>\n",
              "  </svg>\n",
              "      </button>\n",
              "      \n",
              "  <style>\n",
              "    .colab-df-container {\n",
              "      display:flex;\n",
              "      flex-wrap:wrap;\n",
              "      gap: 12px;\n",
              "    }\n",
              "\n",
              "    .colab-df-convert {\n",
              "      background-color: #E8F0FE;\n",
              "      border: none;\n",
              "      border-radius: 50%;\n",
              "      cursor: pointer;\n",
              "      display: none;\n",
              "      fill: #1967D2;\n",
              "      height: 32px;\n",
              "      padding: 0 0 0 0;\n",
              "      width: 32px;\n",
              "    }\n",
              "\n",
              "    .colab-df-convert:hover {\n",
              "      background-color: #E2EBFA;\n",
              "      box-shadow: 0px 1px 2px rgba(60, 64, 67, 0.3), 0px 1px 3px 1px rgba(60, 64, 67, 0.15);\n",
              "      fill: #174EA6;\n",
              "    }\n",
              "\n",
              "    [theme=dark] .colab-df-convert {\n",
              "      background-color: #3B4455;\n",
              "      fill: #D2E3FC;\n",
              "    }\n",
              "\n",
              "    [theme=dark] .colab-df-convert:hover {\n",
              "      background-color: #434B5C;\n",
              "      box-shadow: 0px 1px 3px 1px rgba(0, 0, 0, 0.15);\n",
              "      filter: drop-shadow(0px 1px 2px rgba(0, 0, 0, 0.3));\n",
              "      fill: #FFFFFF;\n",
              "    }\n",
              "  </style>\n",
              "\n",
              "      <script>\n",
              "        const buttonEl =\n",
              "          document.querySelector('#df-39fe9ceb-d252-4504-92fc-42f764c520fd button.colab-df-convert');\n",
              "        buttonEl.style.display =\n",
              "          google.colab.kernel.accessAllowed ? 'block' : 'none';\n",
              "\n",
              "        async function convertToInteractive(key) {\n",
              "          const element = document.querySelector('#df-39fe9ceb-d252-4504-92fc-42f764c520fd');\n",
              "          const dataTable =\n",
              "            await google.colab.kernel.invokeFunction('convertToInteractive',\n",
              "                                                     [key], {});\n",
              "          if (!dataTable) return;\n",
              "\n",
              "          const docLinkHtml = 'Like what you see? Visit the ' +\n",
              "            '<a target=\"_blank\" href=https://colab.research.google.com/notebooks/data_table.ipynb>data table notebook</a>'\n",
              "            + ' to learn more about interactive tables.';\n",
              "          element.innerHTML = '';\n",
              "          dataTable['output_type'] = 'display_data';\n",
              "          await google.colab.output.renderOutput(dataTable, element);\n",
              "          const docLink = document.createElement('div');\n",
              "          docLink.innerHTML = docLinkHtml;\n",
              "          element.appendChild(docLink);\n",
              "        }\n",
              "      </script>\n",
              "    </div>\n",
              "  </div>\n",
              "  "
            ]
          },
          "metadata": {},
          "execution_count": 114
        }
      ]
    },
    {
      "cell_type": "code",
      "source": [
        "# Getting Independant and Dependant Features\n",
        "X = dataset.iloc[: , 3 : 13]\n",
        "y = dataset.iloc[: , 13]"
      ],
      "metadata": {
        "id": "VZfV7-I4LmzY"
      },
      "execution_count": 68,
      "outputs": []
    },
    {
      "cell_type": "code",
      "source": [
        "X.head()"
      ],
      "metadata": {
        "colab": {
          "base_uri": "https://localhost:8080/",
          "height": 206
        },
        "id": "HuHhlHQFMWCY",
        "outputId": "ba918341-425e-4e76-b8b7-1f2894632fac"
      },
      "execution_count": 69,
      "outputs": [
        {
          "output_type": "execute_result",
          "data": {
            "text/plain": [
              "   CreditScore Geography  Gender  Age  Tenure    Balance  NumOfProducts  \\\n",
              "0          619    France  Female   42       2       0.00              1   \n",
              "1          608     Spain  Female   41       1   83807.86              1   \n",
              "2          502    France  Female   42       8  159660.80              3   \n",
              "3          699    France  Female   39       1       0.00              2   \n",
              "4          850     Spain  Female   43       2  125510.82              1   \n",
              "\n",
              "   HasCrCard  IsActiveMember  EstimatedSalary  \n",
              "0          1               1        101348.88  \n",
              "1          0               1        112542.58  \n",
              "2          1               0        113931.57  \n",
              "3          0               0         93826.63  \n",
              "4          1               1         79084.10  "
            ],
            "text/html": [
              "\n",
              "  <div id=\"df-c1c1dac2-51d0-43b4-89bd-4e829e15ff17\">\n",
              "    <div class=\"colab-df-container\">\n",
              "      <div>\n",
              "<style scoped>\n",
              "    .dataframe tbody tr th:only-of-type {\n",
              "        vertical-align: middle;\n",
              "    }\n",
              "\n",
              "    .dataframe tbody tr th {\n",
              "        vertical-align: top;\n",
              "    }\n",
              "\n",
              "    .dataframe thead th {\n",
              "        text-align: right;\n",
              "    }\n",
              "</style>\n",
              "<table border=\"1\" class=\"dataframe\">\n",
              "  <thead>\n",
              "    <tr style=\"text-align: right;\">\n",
              "      <th></th>\n",
              "      <th>CreditScore</th>\n",
              "      <th>Geography</th>\n",
              "      <th>Gender</th>\n",
              "      <th>Age</th>\n",
              "      <th>Tenure</th>\n",
              "      <th>Balance</th>\n",
              "      <th>NumOfProducts</th>\n",
              "      <th>HasCrCard</th>\n",
              "      <th>IsActiveMember</th>\n",
              "      <th>EstimatedSalary</th>\n",
              "    </tr>\n",
              "  </thead>\n",
              "  <tbody>\n",
              "    <tr>\n",
              "      <th>0</th>\n",
              "      <td>619</td>\n",
              "      <td>France</td>\n",
              "      <td>Female</td>\n",
              "      <td>42</td>\n",
              "      <td>2</td>\n",
              "      <td>0.00</td>\n",
              "      <td>1</td>\n",
              "      <td>1</td>\n",
              "      <td>1</td>\n",
              "      <td>101348.88</td>\n",
              "    </tr>\n",
              "    <tr>\n",
              "      <th>1</th>\n",
              "      <td>608</td>\n",
              "      <td>Spain</td>\n",
              "      <td>Female</td>\n",
              "      <td>41</td>\n",
              "      <td>1</td>\n",
              "      <td>83807.86</td>\n",
              "      <td>1</td>\n",
              "      <td>0</td>\n",
              "      <td>1</td>\n",
              "      <td>112542.58</td>\n",
              "    </tr>\n",
              "    <tr>\n",
              "      <th>2</th>\n",
              "      <td>502</td>\n",
              "      <td>France</td>\n",
              "      <td>Female</td>\n",
              "      <td>42</td>\n",
              "      <td>8</td>\n",
              "      <td>159660.80</td>\n",
              "      <td>3</td>\n",
              "      <td>1</td>\n",
              "      <td>0</td>\n",
              "      <td>113931.57</td>\n",
              "    </tr>\n",
              "    <tr>\n",
              "      <th>3</th>\n",
              "      <td>699</td>\n",
              "      <td>France</td>\n",
              "      <td>Female</td>\n",
              "      <td>39</td>\n",
              "      <td>1</td>\n",
              "      <td>0.00</td>\n",
              "      <td>2</td>\n",
              "      <td>0</td>\n",
              "      <td>0</td>\n",
              "      <td>93826.63</td>\n",
              "    </tr>\n",
              "    <tr>\n",
              "      <th>4</th>\n",
              "      <td>850</td>\n",
              "      <td>Spain</td>\n",
              "      <td>Female</td>\n",
              "      <td>43</td>\n",
              "      <td>2</td>\n",
              "      <td>125510.82</td>\n",
              "      <td>1</td>\n",
              "      <td>1</td>\n",
              "      <td>1</td>\n",
              "      <td>79084.10</td>\n",
              "    </tr>\n",
              "  </tbody>\n",
              "</table>\n",
              "</div>\n",
              "      <button class=\"colab-df-convert\" onclick=\"convertToInteractive('df-c1c1dac2-51d0-43b4-89bd-4e829e15ff17')\"\n",
              "              title=\"Convert this dataframe to an interactive table.\"\n",
              "              style=\"display:none;\">\n",
              "        \n",
              "  <svg xmlns=\"http://www.w3.org/2000/svg\" height=\"24px\"viewBox=\"0 0 24 24\"\n",
              "       width=\"24px\">\n",
              "    <path d=\"M0 0h24v24H0V0z\" fill=\"none\"/>\n",
              "    <path d=\"M18.56 5.44l.94 2.06.94-2.06 2.06-.94-2.06-.94-.94-2.06-.94 2.06-2.06.94zm-11 1L8.5 8.5l.94-2.06 2.06-.94-2.06-.94L8.5 2.5l-.94 2.06-2.06.94zm10 10l.94 2.06.94-2.06 2.06-.94-2.06-.94-.94-2.06-.94 2.06-2.06.94z\"/><path d=\"M17.41 7.96l-1.37-1.37c-.4-.4-.92-.59-1.43-.59-.52 0-1.04.2-1.43.59L10.3 9.45l-7.72 7.72c-.78.78-.78 2.05 0 2.83L4 21.41c.39.39.9.59 1.41.59.51 0 1.02-.2 1.41-.59l7.78-7.78 2.81-2.81c.8-.78.8-2.07 0-2.86zM5.41 20L4 18.59l7.72-7.72 1.47 1.35L5.41 20z\"/>\n",
              "  </svg>\n",
              "      </button>\n",
              "      \n",
              "  <style>\n",
              "    .colab-df-container {\n",
              "      display:flex;\n",
              "      flex-wrap:wrap;\n",
              "      gap: 12px;\n",
              "    }\n",
              "\n",
              "    .colab-df-convert {\n",
              "      background-color: #E8F0FE;\n",
              "      border: none;\n",
              "      border-radius: 50%;\n",
              "      cursor: pointer;\n",
              "      display: none;\n",
              "      fill: #1967D2;\n",
              "      height: 32px;\n",
              "      padding: 0 0 0 0;\n",
              "      width: 32px;\n",
              "    }\n",
              "\n",
              "    .colab-df-convert:hover {\n",
              "      background-color: #E2EBFA;\n",
              "      box-shadow: 0px 1px 2px rgba(60, 64, 67, 0.3), 0px 1px 3px 1px rgba(60, 64, 67, 0.15);\n",
              "      fill: #174EA6;\n",
              "    }\n",
              "\n",
              "    [theme=dark] .colab-df-convert {\n",
              "      background-color: #3B4455;\n",
              "      fill: #D2E3FC;\n",
              "    }\n",
              "\n",
              "    [theme=dark] .colab-df-convert:hover {\n",
              "      background-color: #434B5C;\n",
              "      box-shadow: 0px 1px 3px 1px rgba(0, 0, 0, 0.15);\n",
              "      filter: drop-shadow(0px 1px 2px rgba(0, 0, 0, 0.3));\n",
              "      fill: #FFFFFF;\n",
              "    }\n",
              "  </style>\n",
              "\n",
              "      <script>\n",
              "        const buttonEl =\n",
              "          document.querySelector('#df-c1c1dac2-51d0-43b4-89bd-4e829e15ff17 button.colab-df-convert');\n",
              "        buttonEl.style.display =\n",
              "          google.colab.kernel.accessAllowed ? 'block' : 'none';\n",
              "\n",
              "        async function convertToInteractive(key) {\n",
              "          const element = document.querySelector('#df-c1c1dac2-51d0-43b4-89bd-4e829e15ff17');\n",
              "          const dataTable =\n",
              "            await google.colab.kernel.invokeFunction('convertToInteractive',\n",
              "                                                     [key], {});\n",
              "          if (!dataTable) return;\n",
              "\n",
              "          const docLinkHtml = 'Like what you see? Visit the ' +\n",
              "            '<a target=\"_blank\" href=https://colab.research.google.com/notebooks/data_table.ipynb>data table notebook</a>'\n",
              "            + ' to learn more about interactive tables.';\n",
              "          element.innerHTML = '';\n",
              "          dataTable['output_type'] = 'display_data';\n",
              "          await google.colab.output.renderOutput(dataTable, element);\n",
              "          const docLink = document.createElement('div');\n",
              "          docLink.innerHTML = docLinkHtml;\n",
              "          element.appendChild(docLink);\n",
              "        }\n",
              "      </script>\n",
              "    </div>\n",
              "  </div>\n",
              "  "
            ]
          },
          "metadata": {},
          "execution_count": 69
        }
      ]
    },
    {
      "cell_type": "code",
      "source": [
        "y.head()"
      ],
      "metadata": {
        "colab": {
          "base_uri": "https://localhost:8080/"
        },
        "id": "cgGlJEtkMXqk",
        "outputId": "a4779cf9-1789-4462-8151-daf7013e0d73"
      },
      "execution_count": 70,
      "outputs": [
        {
          "output_type": "execute_result",
          "data": {
            "text/plain": [
              "0    1\n",
              "1    0\n",
              "2    1\n",
              "3    0\n",
              "4    0\n",
              "Name: Exited, dtype: int64"
            ]
          },
          "metadata": {},
          "execution_count": 70
        }
      ]
    },
    {
      "cell_type": "code",
      "source": [
        "# Feature Engineering - One Hot Encoding Values... And then removing the first Column (Remaining all = 0 : First Column)\n",
        "geography = pd.get_dummies(X['Geography'] , drop_first = True)\n",
        "gender = pd.get_dummies(X['Gender'] , drop_first = True)"
      ],
      "metadata": {
        "id": "kaUmZWzTMfyx"
      },
      "execution_count": 71,
      "outputs": []
    },
    {
      "cell_type": "code",
      "source": [
        "# Dropping previous categorical variables\n",
        "X = X.drop(['Geography' , 'Gender'] , axis = 1)"
      ],
      "metadata": {
        "id": "l5FKB5OYNJMh"
      },
      "execution_count": 72,
      "outputs": []
    },
    {
      "cell_type": "code",
      "source": [
        "# Concatenate these Variables in the Dataframe\n",
        "X = pd.concat([X , geography , gender] , axis = 1)"
      ],
      "metadata": {
        "id": "PFkD-twGNknF"
      },
      "execution_count": 73,
      "outputs": []
    },
    {
      "cell_type": "code",
      "source": [
        "# Splitting into Training and Testing Datasets\n",
        "from sklearn.model_selection import train_test_split\n",
        "X_train , X_test , y_train , y_test = train_test_split(X , y , test_size = 0.2 , random_state = 0);"
      ],
      "metadata": {
        "id": "jZatjAJ8N_tM"
      },
      "execution_count": 74,
      "outputs": []
    },
    {
      "cell_type": "code",
      "source": [
        "# Feature Scaling\n",
        "from sklearn.preprocessing import StandardScaler\n",
        "sc = StandardScaler()\n",
        "\n",
        "# Learn Why: Why is fit_transform applied to training dataset and why is transform applied to testing dataset\n",
        "X_train = sc.fit_transform(X_train)\n",
        "X_test = sc.fit_transform(X_test)\n",
        "# HINT: Data Leakage"
      ],
      "metadata": {
        "id": "ZLTLZ--NOUSf"
      },
      "execution_count": 75,
      "outputs": []
    },
    {
      "cell_type": "markdown",
      "source": [
        "Part 2 : Working on ANN"
      ],
      "metadata": {
        "id": "21dXktNWQcwk"
      }
    },
    {
      "cell_type": "code",
      "source": [
        "from tensorflow.keras.models import Sequential\n",
        "from tensorflow.keras.layers import Dense\n",
        "from tensorflow.keras.layers import ReLU , ELU , PReLU , LeakyReLU\n",
        "from tensorflow.keras.layers import Dropout"
      ],
      "metadata": {
        "id": "sW8tXql_PDb8"
      },
      "execution_count": 76,
      "outputs": []
    },
    {
      "cell_type": "code",
      "source": [
        "# Initializing ANN\n",
        "classifier = Sequential();"
      ],
      "metadata": {
        "id": "voeabJx7Q0Z2"
      },
      "execution_count": 77,
      "outputs": []
    },
    {
      "cell_type": "code",
      "source": [
        "# Adding the Input Layer\n",
        "classifier.add(Dense(units = 11 , activation = 'relu'))"
      ],
      "metadata": {
        "id": "FGBKo_HJR6EU"
      },
      "execution_count": 78,
      "outputs": []
    },
    {
      "cell_type": "code",
      "source": [
        "# Adding the First Hidden Layer\n",
        "classifier.add(Dense(units = 7 , activation = 'relu'))\n",
        "\n",
        "# Adding a Dropout Layer\n",
        "classifier.add(Dropout(0.2))"
      ],
      "metadata": {
        "id": "xlBw5VCZSH79"
      },
      "execution_count": 99,
      "outputs": []
    },
    {
      "cell_type": "code",
      "source": [
        "# Adding the Second Hidden Layer\n",
        "classifier.add(Dense(units = 6 , activation = 'relu'))\n",
        "\n",
        "# Adding a Dropout Layer\n",
        "classifier.add(Dropout(0.3))"
      ],
      "metadata": {
        "id": "OOdP7g4NSRnP"
      },
      "execution_count": 100,
      "outputs": []
    },
    {
      "cell_type": "code",
      "source": [
        "# Adding the Output Layer\n",
        "classifier.add(Dense(units = 1 , activation = 'sigmoid'))"
      ],
      "metadata": {
        "id": "OlQoZmcKSYrA"
      },
      "execution_count": 101,
      "outputs": []
    },
    {
      "cell_type": "code",
      "source": [
        "# OPTIONAL: Adding your own Adam Optimizer with the Learning Rate\n",
        "import tensorflow\n",
        "opt = tensorflow.keras.optimizers.Adam(learning_rate = 0.01)"
      ],
      "metadata": {
        "id": "OLsffVnQTJxm"
      },
      "execution_count": 102,
      "outputs": []
    },
    {
      "cell_type": "code",
      "source": [
        "# Compiling all the layers\n",
        "classifier.compile(optimizer = opt , loss = 'binary_crossentropy' , metrics = ['accuracy'])"
      ],
      "metadata": {
        "id": "cCbG115HSiM2"
      },
      "execution_count": 103,
      "outputs": []
    },
    {
      "cell_type": "code",
      "source": [
        "# Stop training when a monitored metric has stopped improving\n",
        "import tensorflow as tf\n",
        "\n",
        "early_stopping = tf.keras.callbacks.EarlyStopping(\n",
        "    monitor=\"val_loss\",\n",
        "    min_delta=0.0001,\n",
        "    patience=20,\n",
        "    verbose=0,\n",
        "    mode=\"auto\",\n",
        "    baseline=None,\n",
        "    restore_best_weights=False,\n",
        "    start_from_epoch=0,\n",
        ")"
      ],
      "metadata": {
        "id": "nkZwnFtDU7r6"
      },
      "execution_count": 104,
      "outputs": []
    },
    {
      "cell_type": "code",
      "source": [
        "# Fitting the Training Data in the Model\n",
        "model_history = classifier.fit(X_train , y_train , validation_split = 0.33 , batch_size = 10 , epochs = 1000 , callbacks = early_stopping)"
      ],
      "metadata": {
        "colab": {
          "base_uri": "https://localhost:8080/"
        },
        "id": "8XMYdFsWS3Oj",
        "outputId": "63753dc2-d77b-4009-b8aa-852e49348e27"
      },
      "execution_count": 105,
      "outputs": [
        {
          "output_type": "stream",
          "name": "stdout",
          "text": [
            "Epoch 1/1000\n",
            "536/536 [==============================] - 5s 5ms/step - loss: 0.4842 - accuracy: 0.7955 - val_loss: 0.4327 - val_accuracy: 0.7955\n",
            "Epoch 2/1000\n",
            "536/536 [==============================] - 3s 5ms/step - loss: 0.4531 - accuracy: 0.7962 - val_loss: 0.4328 - val_accuracy: 0.7955\n",
            "Epoch 3/1000\n",
            "536/536 [==============================] - 3s 5ms/step - loss: 0.4517 - accuracy: 0.7962 - val_loss: 0.4297 - val_accuracy: 0.7955\n",
            "Epoch 4/1000\n",
            "536/536 [==============================] - 3s 6ms/step - loss: 0.4597 - accuracy: 0.7962 - val_loss: 0.4383 - val_accuracy: 0.7955\n",
            "Epoch 5/1000\n",
            "536/536 [==============================] - 3s 6ms/step - loss: 0.4526 - accuracy: 0.7962 - val_loss: 0.4359 - val_accuracy: 0.7955\n",
            "Epoch 6/1000\n",
            "536/536 [==============================] - 3s 5ms/step - loss: 0.4481 - accuracy: 0.7962 - val_loss: 0.4290 - val_accuracy: 0.7955\n",
            "Epoch 7/1000\n",
            "536/536 [==============================] - 3s 5ms/step - loss: 0.4481 - accuracy: 0.7962 - val_loss: 0.4258 - val_accuracy: 0.7955\n",
            "Epoch 8/1000\n",
            "536/536 [==============================] - 3s 6ms/step - loss: 0.4552 - accuracy: 0.7962 - val_loss: 0.4265 - val_accuracy: 0.7955\n",
            "Epoch 9/1000\n",
            "536/536 [==============================] - 3s 5ms/step - loss: 0.4510 - accuracy: 0.7962 - val_loss: 0.4397 - val_accuracy: 0.7955\n",
            "Epoch 10/1000\n",
            "536/536 [==============================] - 3s 5ms/step - loss: 0.4457 - accuracy: 0.7962 - val_loss: 0.4263 - val_accuracy: 0.7955\n",
            "Epoch 11/1000\n",
            "536/536 [==============================] - 3s 5ms/step - loss: 0.4450 - accuracy: 0.7962 - val_loss: 0.4318 - val_accuracy: 0.7955\n",
            "Epoch 12/1000\n",
            "536/536 [==============================] - 3s 6ms/step - loss: 0.4500 - accuracy: 0.7962 - val_loss: 0.4242 - val_accuracy: 0.7955\n",
            "Epoch 13/1000\n",
            "536/536 [==============================] - 4s 7ms/step - loss: 0.4451 - accuracy: 0.7962 - val_loss: 0.4261 - val_accuracy: 0.7955\n",
            "Epoch 14/1000\n",
            "536/536 [==============================] - 4s 8ms/step - loss: 0.4473 - accuracy: 0.7962 - val_loss: 0.4392 - val_accuracy: 0.7955\n",
            "Epoch 15/1000\n",
            "536/536 [==============================] - 5s 9ms/step - loss: 0.4457 - accuracy: 0.7962 - val_loss: 0.4254 - val_accuracy: 0.7955\n",
            "Epoch 16/1000\n",
            "536/536 [==============================] - 4s 7ms/step - loss: 0.4472 - accuracy: 0.7962 - val_loss: 0.4412 - val_accuracy: 0.7955\n",
            "Epoch 17/1000\n",
            "536/536 [==============================] - 4s 7ms/step - loss: 0.4453 - accuracy: 0.7962 - val_loss: 0.4676 - val_accuracy: 0.7955\n",
            "Epoch 18/1000\n",
            "536/536 [==============================] - 5s 10ms/step - loss: 0.4453 - accuracy: 0.7962 - val_loss: 0.4240 - val_accuracy: 0.7955\n",
            "Epoch 19/1000\n",
            "536/536 [==============================] - 5s 8ms/step - loss: 0.4434 - accuracy: 0.7962 - val_loss: 0.4325 - val_accuracy: 0.7955\n",
            "Epoch 20/1000\n",
            "536/536 [==============================] - 3s 6ms/step - loss: 0.4435 - accuracy: 0.7962 - val_loss: 0.4252 - val_accuracy: 0.7955\n",
            "Epoch 21/1000\n",
            "536/536 [==============================] - 4s 8ms/step - loss: 0.4450 - accuracy: 0.7962 - val_loss: 0.4304 - val_accuracy: 0.7955\n",
            "Epoch 22/1000\n",
            "536/536 [==============================] - 3s 5ms/step - loss: 0.4462 - accuracy: 0.7962 - val_loss: 0.4253 - val_accuracy: 0.7955\n",
            "Epoch 23/1000\n",
            "536/536 [==============================] - 3s 5ms/step - loss: 0.4403 - accuracy: 0.7962 - val_loss: 0.4255 - val_accuracy: 0.7955\n",
            "Epoch 24/1000\n",
            "536/536 [==============================] - 3s 5ms/step - loss: 0.4434 - accuracy: 0.7962 - val_loss: 0.4283 - val_accuracy: 0.7955\n",
            "Epoch 25/1000\n",
            "536/536 [==============================] - 4s 7ms/step - loss: 0.4390 - accuracy: 0.7962 - val_loss: 0.4270 - val_accuracy: 0.7955\n",
            "Epoch 26/1000\n",
            "536/536 [==============================] - 3s 5ms/step - loss: 0.4445 - accuracy: 0.7962 - val_loss: 0.4328 - val_accuracy: 0.7955\n",
            "Epoch 27/1000\n",
            "536/536 [==============================] - 3s 5ms/step - loss: 0.4468 - accuracy: 0.7962 - val_loss: 0.4263 - val_accuracy: 0.7955\n",
            "Epoch 28/1000\n",
            "536/536 [==============================] - 3s 5ms/step - loss: 0.4441 - accuracy: 0.7962 - val_loss: 0.4304 - val_accuracy: 0.7955\n",
            "Epoch 29/1000\n",
            "536/536 [==============================] - 4s 7ms/step - loss: 0.4377 - accuracy: 0.7962 - val_loss: 0.4346 - val_accuracy: 0.7955\n",
            "Epoch 30/1000\n",
            "536/536 [==============================] - 3s 5ms/step - loss: 0.4429 - accuracy: 0.7962 - val_loss: 0.4277 - val_accuracy: 0.7955\n",
            "Epoch 31/1000\n",
            "536/536 [==============================] - 3s 5ms/step - loss: 0.4415 - accuracy: 0.7962 - val_loss: 0.4344 - val_accuracy: 0.7955\n",
            "Epoch 32/1000\n",
            "536/536 [==============================] - 3s 5ms/step - loss: 0.4439 - accuracy: 0.7962 - val_loss: 0.4246 - val_accuracy: 0.7955\n",
            "Epoch 33/1000\n",
            "536/536 [==============================] - 4s 7ms/step - loss: 0.4415 - accuracy: 0.7962 - val_loss: 0.4237 - val_accuracy: 0.7955\n",
            "Epoch 34/1000\n",
            "536/536 [==============================] - 3s 5ms/step - loss: 0.4413 - accuracy: 0.7962 - val_loss: 0.4358 - val_accuracy: 0.7955\n",
            "Epoch 35/1000\n",
            "536/536 [==============================] - 3s 5ms/step - loss: 0.4414 - accuracy: 0.7962 - val_loss: 0.4274 - val_accuracy: 0.7955\n",
            "Epoch 36/1000\n",
            "536/536 [==============================] - 3s 5ms/step - loss: 0.4459 - accuracy: 0.7962 - val_loss: 0.4305 - val_accuracy: 0.7955\n",
            "Epoch 37/1000\n",
            "536/536 [==============================] - 4s 7ms/step - loss: 0.4379 - accuracy: 0.7962 - val_loss: 0.4245 - val_accuracy: 0.7955\n",
            "Epoch 38/1000\n",
            "536/536 [==============================] - 3s 5ms/step - loss: 0.4391 - accuracy: 0.7962 - val_loss: 0.4260 - val_accuracy: 0.7955\n",
            "Epoch 39/1000\n",
            "536/536 [==============================] - 3s 5ms/step - loss: 0.4442 - accuracy: 0.7962 - val_loss: 0.4312 - val_accuracy: 0.7955\n",
            "Epoch 40/1000\n",
            "536/536 [==============================] - 3s 5ms/step - loss: 0.4400 - accuracy: 0.7962 - val_loss: 0.4292 - val_accuracy: 0.7955\n",
            "Epoch 41/1000\n",
            "536/536 [==============================] - 4s 8ms/step - loss: 0.4440 - accuracy: 0.7962 - val_loss: 0.4314 - val_accuracy: 0.7955\n",
            "Epoch 42/1000\n",
            "536/536 [==============================] - 3s 6ms/step - loss: 0.4394 - accuracy: 0.7962 - val_loss: 0.4283 - val_accuracy: 0.7955\n",
            "Epoch 43/1000\n",
            "536/536 [==============================] - 3s 5ms/step - loss: 0.4379 - accuracy: 0.7962 - val_loss: 0.4257 - val_accuracy: 0.7955\n",
            "Epoch 44/1000\n",
            "536/536 [==============================] - 3s 6ms/step - loss: 0.4431 - accuracy: 0.7962 - val_loss: 0.4321 - val_accuracy: 0.7955\n",
            "Epoch 45/1000\n",
            "536/536 [==============================] - 3s 6ms/step - loss: 0.4372 - accuracy: 0.7962 - val_loss: 0.4339 - val_accuracy: 0.7955\n",
            "Epoch 46/1000\n",
            "536/536 [==============================] - 3s 5ms/step - loss: 0.4444 - accuracy: 0.7962 - val_loss: 0.4355 - val_accuracy: 0.7955\n",
            "Epoch 47/1000\n",
            "536/536 [==============================] - 3s 5ms/step - loss: 0.4442 - accuracy: 0.7962 - val_loss: 0.4305 - val_accuracy: 0.7955\n",
            "Epoch 48/1000\n",
            "536/536 [==============================] - 3s 5ms/step - loss: 0.4381 - accuracy: 0.7962 - val_loss: 0.4337 - val_accuracy: 0.7955\n",
            "Epoch 49/1000\n",
            "536/536 [==============================] - 3s 6ms/step - loss: 0.4391 - accuracy: 0.7962 - val_loss: 0.4256 - val_accuracy: 0.7955\n",
            "Epoch 50/1000\n",
            "536/536 [==============================] - 3s 6ms/step - loss: 0.4376 - accuracy: 0.7962 - val_loss: 0.4332 - val_accuracy: 0.7955\n",
            "Epoch 51/1000\n",
            "536/536 [==============================] - 3s 5ms/step - loss: 0.4368 - accuracy: 0.7962 - val_loss: 0.4284 - val_accuracy: 0.7955\n",
            "Epoch 52/1000\n",
            "536/536 [==============================] - 3s 5ms/step - loss: 0.4432 - accuracy: 0.7962 - val_loss: 0.4362 - val_accuracy: 0.7955\n",
            "Epoch 53/1000\n",
            "536/536 [==============================] - 3s 6ms/step - loss: 0.4362 - accuracy: 0.7962 - val_loss: 0.4244 - val_accuracy: 0.7955\n"
          ]
        }
      ]
    },
    {
      "cell_type": "code",
      "source": [
        "# See Model History - Params we have focused on \n",
        "model_history.history.keys()"
      ],
      "metadata": {
        "colab": {
          "base_uri": "https://localhost:8080/"
        },
        "id": "upcvGqPDUBs6",
        "outputId": "888f7dd8-0d57-4c00-e78f-92189ae59e4a"
      },
      "execution_count": 106,
      "outputs": [
        {
          "output_type": "execute_result",
          "data": {
            "text/plain": [
              "dict_keys(['loss', 'accuracy', 'val_loss', 'val_accuracy'])"
            ]
          },
          "metadata": {},
          "execution_count": 106
        }
      ]
    },
    {
      "cell_type": "code",
      "source": [
        "# Plotting Accuracy vs Epochs\n",
        "plt.plot(model_history.history['accuracy'])\n",
        "plt.plot(model_history.history['val_accuracy'])\n",
        "plt.title(\"Model Accuracy\")\n",
        "plt.xlabel('Epoch')\n",
        "plt.ylabel('Accuracy')\n",
        "plt.legend(['test' , 'train'] , loc = 'upper left')\n",
        "plt.show()"
      ],
      "metadata": {
        "colab": {
          "base_uri": "https://localhost:8080/",
          "height": 295
        },
        "id": "YHInR0T4V1a8",
        "outputId": "1b193812-66f1-4a09-81d5-4deddf0ba7c8"
      },
      "execution_count": 107,
      "outputs": [
        {
          "output_type": "display_data",
          "data": {
            "text/plain": [
              "<Figure size 432x288 with 1 Axes>"
            ],
            "image/png": "[encoded data removed]"
          },
          "metadata": {
            "needs_background": "light"
          }
        }
      ]
    },
    {
      "cell_type": "code",
      "source": [
        "# Plotting Loss vs Epochs\n",
        "plt.plot(model_history.history['loss'])\n",
        "plt.plot(model_history.history['val_loss'])\n",
        "plt.title(\"Model Loss\")\n",
        "plt.xlabel('Epoch')\n",
        "plt.ylabel('Loss')\n",
        "plt.legend(['test' , 'train'] , loc = 'upper left')\n",
        "plt.show()"
      ],
      "metadata": {
        "colab": {
          "base_uri": "https://localhost:8080/",
          "height": 295
        },
        "id": "y6rgYMJuWLb-",
        "outputId": "d51dddf2-c082-4129-cf46-906ced8c3eb1"
      },
      "execution_count": 108,
      "outputs": [
        {
          "output_type": "display_data",
          "data": {
            "text/plain": [
              "<Figure size 432x288 with 1 Axes>"
            ],
            "image/png": "[encoded data removed]"
          },
          "metadata": {
            "needs_background": "light"
          }
        }
      ]
    },
    {
      "cell_type": "markdown",
      "source": [
        "Part 3 : Predicting Values"
      ],
      "metadata": {
        "id": "4t9jn2iFXh5X"
      }
    },
    {
      "cell_type": "code",
      "source": [
        "# Predicting the Prediction Values\n",
        "y_pred = classifier.predict(X_test)\n",
        "y_pred = (y_pred >= 0.5)"
      ],
      "metadata": {
        "colab": {
          "base_uri": "https://localhost:8080/"
        },
        "id": "Fg4s4012XbWe",
        "outputId": "54c7bfaf-b9bb-46a6-98b4-f0037d5fd356"
      },
      "execution_count": 109,
      "outputs": [
        {
          "output_type": "stream",
          "name": "stdout",
          "text": [
            "63/63 [==============================] - 0s 2ms/step\n"
          ]
        }
      ]
    },
    {
      "cell_type": "code",
      "source": [
        "# Creating the Confusing Matrix\n",
        "from sklearn.metrics import confusion_matrix\n",
        "cm = confusion_matrix(y_test , y_pred)\n",
        "cm"
      ],
      "metadata": {
        "colab": {
          "base_uri": "https://localhost:8080/"
        },
        "id": "hKMto1L5Xt_l",
        "outputId": "0fb20b84-c15d-47b0-d3a4-0c8b341dad4e"
      },
      "execution_count": 110,
      "outputs": [
        {
          "output_type": "execute_result",
          "data": {
            "text/plain": [
              "array([[1595,    0],\n",
              "       [ 405,    0]])"
            ]
          },
          "metadata": {},
          "execution_count": 110
        }
      ]
    },
    {
      "cell_type": "code",
      "source": [
        "# Checking the Accuracy\n",
        "from sklearn.metrics import accuracy_score\n",
        "score = accuracy_score(y_test , y_pred)\n",
        "score"
      ],
      "metadata": {
        "colab": {
          "base_uri": "https://localhost:8080/"
        },
        "id": "W3Ml7PgLYFBG",
        "outputId": "b602f208-3c34-41ae-b6f3-b0f0dfb9cff8"
      },
      "execution_count": 111,
      "outputs": [
        {
          "output_type": "execute_result",
          "data": {
            "text/plain": [
              "0.7975"
            ]
          },
          "metadata": {},
          "execution_count": 111
        }
      ]
    },
    {
      "cell_type": "markdown",
      "source": [
        "Additional"
      ],
      "metadata": {
        "id": "DRbOVerEZLvS"
      }
    },
    {
      "cell_type": "code",
      "source": [
        "# Getting the Weights used by all the ANNs\n",
        "classifier.get_weights()"
      ],
      "metadata": {
        "colab": {
          "base_uri": "https://localhost:8080/"
        },
        "id": "HqtLMPu8YGfW",
        "outputId": "aebc6154-492b-46d0-917d-902b93fbb972"
      },
      "execution_count": 112,
      "outputs": [
        {
          "output_type": "execute_result",
          "data": {
            "text/plain": [
              "[array([[-0.52932143,  1.3731264 , -0.6634584 ,  1.6132388 ,  1.1967402 ,\n",
              "         -0.2967414 , -1.063155  , -1.7594886 , -1.5252311 ,  0.21432517,\n",
              "         -0.35355338],\n",
              "        [ 4.6928344 , -2.1556778 ,  1.7341331 , -2.895516  , -1.3614489 ,\n",
              "          2.2875621 ,  0.3018374 , -1.848585  , -0.4190043 ,  1.2790424 ,\n",
              "          4.282817  ],\n",
              "        [ 0.10506574,  2.952593  ,  0.08916236,  2.1001947 ,  0.2066176 ,\n",
              "         -0.5517235 , -1.5427558 ,  0.400085  ,  0.07250667,  0.34651494,\n",
              "          0.41548812],\n",
              "        [-4.2798495 , -2.1434429 ,  4.1696153 , -0.44247407, -2.7275167 ,\n",
              "         -0.78712016, -2.2543402 ,  1.1376976 , -2.5936823 ,  1.5974787 ,\n",
              "          0.33819714],\n",
              "        [-3.8283997 , -0.7086408 , -1.7788116 , -0.76432204,  4.871255  ,\n",
              "          0.68155974, -1.5975673 ,  1.4848636 , -0.8916942 , -1.2803587 ,\n",
              "          6.675936  ],\n",
              "        [-0.7000011 , -1.6269448 , -1.3506212 ,  0.5082271 ,  0.3607864 ,\n",
              "          0.23903418, -0.54636574, -0.6492557 ,  0.39177084,  2.0201805 ,\n",
              "         -1.0572306 ],\n",
              "        [-0.8552494 ,  1.2959197 , -0.610106  , -0.45798755,  1.5462341 ,\n",
              "          4.5919847 , -2.1515708 ,  2.2515585 , -0.01376475, -0.18104462,\n",
              "         -0.65373695],\n",
              "        [ 0.88249856, -0.31598586,  0.5384571 , -0.4671308 ,  0.83235437,\n",
              "          1.4224687 ,  2.7231894 , -0.63949573, -2.1645513 , -2.663443  ,\n",
              "         -0.904314  ],\n",
              "        [ 1.0940639 , -0.02060091,  1.9792945 ,  0.5747876 ,  1.2409981 ,\n",
              "         -0.7257909 , -0.89585435,  1.6761609 , -4.009621  ,  0.4764001 ,\n",
              "          0.564234  ],\n",
              "        [-1.2509726 , -0.11866605, -1.6120005 ,  2.7322268 ,  0.45638126,\n",
              "         -0.32619038, -0.37056345, -1.3043818 , -0.8009646 ,  0.70735437,\n",
              "          0.07363261],\n",
              "        [-0.5253604 ,  3.0427332 , -1.9033798 , -0.32316485,  0.21011056,\n",
              "          1.9347351 ,  2.6034746 , -0.26851797, -0.90349716,  1.0134852 ,\n",
              "         -0.94680214]], dtype=float32),\n",
              " array([ 0.29749978, -1.8486478 , -1.7949277 , -2.321081  , -1.2852358 ,\n",
              "        -1.5678416 , -0.9733854 , -1.5785508 ,  0.8808386 , -4.8943987 ,\n",
              "        -1.01928   ], dtype=float32),\n",
              " array([[-3.7149584e+00, -1.8069376e+00,  2.0093643e-03, -4.9412209e-01,\n",
              "         -1.8919963e+00, -5.9752116e+00,  1.7301800e+00],\n",
              "        [ 2.4811600e-01,  2.1970692e+00,  3.2331184e-01, -4.0364566e+00,\n",
              "          2.1954024e+00, -3.1547172e+00,  7.4275243e-01],\n",
              "        [-7.7335465e-01,  3.9736375e-01, -1.9023516e+00, -1.3803642e+00,\n",
              "         -2.5250647e+00, -3.2515748e+00,  6.4612967e-01],\n",
              "        [ 1.6390088e-01, -2.3394468e+00,  1.1366010e+00, -3.3016987e+00,\n",
              "          7.2997159e-01, -4.3407092e+00,  1.1535828e+00],\n",
              "        [ 2.5081937e+00,  8.3625078e-02,  2.2057397e+00, -3.1605911e+00,\n",
              "          1.4721197e+00,  1.8878659e+00,  1.7607042e-01],\n",
              "        [ 1.1822724e+00, -6.3062984e-01,  3.1726413e+00, -2.1488810e+00,\n",
              "          1.0267426e+00, -1.2792386e+00,  1.2875233e+00],\n",
              "        [-2.8199584e+00,  1.7635211e+00, -3.2081351e+00,  1.9189778e-01,\n",
              "          2.0675208e-01, -1.2384822e+00,  4.9587867e-01],\n",
              "        [-8.7660313e-02,  1.5105354e+00,  3.9201066e-01, -5.3538289e+00,\n",
              "         -1.6508958e+00, -8.3889627e-01,  5.0548148e-01],\n",
              "        [ 1.0413259e+00,  1.5818466e+00, -8.7244511e-01, -5.3616047e+00,\n",
              "         -1.7168320e+00, -3.9242017e+00,  5.6033152e-01],\n",
              "        [ 8.7157452e-01, -3.1728649e+00,  1.1922971e+00, -4.6842928e+00,\n",
              "         -6.4182651e-01, -2.1813414e+00,  1.3051268e+00],\n",
              "        [-2.6956990e+00, -5.8109039e-01, -2.9420179e-01,  2.4646354e+00,\n",
              "         -1.7542229e+00,  2.7802687e+00, -1.0009331e+01]], dtype=float32),\n",
              " array([ 2.460708 ,  3.8418503,  1.8166536, -1.2248784,  3.7465487,\n",
              "        -2.837187 , -3.4153707], dtype=float32),\n",
              " array([[ 2.2402762e-01,  2.6311272e-01, -2.8162533e-01,  1.4387529e+00,\n",
              "         -5.5505496e-02, -2.8852123e-01],\n",
              "        [-3.2250467e-01, -6.4407682e-01, -7.0878752e-02,  7.7012897e-01,\n",
              "         -2.8747425e+00, -7.7474974e-03],\n",
              "        [-1.8578193e+00, -2.5603929e-01, -3.4145969e-01,  8.4641886e-01,\n",
              "         -1.0385054e+00, -1.4377291e-03],\n",
              "        [-8.9713675e-01, -9.2739862e-01, -1.2722047e-01, -7.9940611e-01,\n",
              "          3.3605695e-02, -1.1685579e+00],\n",
              "        [-1.6535090e-01, -1.2720464e+00, -2.9821929e-01,  1.2111175e+00,\n",
              "         -6.2295228e-01,  6.1591804e-02],\n",
              "        [-3.6176018e-02, -9.4904935e-01, -4.6181612e-02, -2.5730224e+00,\n",
              "          1.4938059e+00, -3.1186888e+00],\n",
              "        [-8.3776170e-01, -1.1945412e+00, -5.8197540e-01, -1.4096342e+00,\n",
              "         -1.7789928e+00, -4.1787794e-01]], dtype=float32),\n",
              " array([-1.9723324 , -1.2319086 , -0.10988969,  1.0734414 , -0.9048343 ,\n",
              "        -1.5990877 ], dtype=float32),\n",
              " array([[ 0.05925449],\n",
              "        [-0.20816071],\n",
              "        [ 0.7665635 ],\n",
              "        [ 0.28993145],\n",
              "        [-0.34661493],\n",
              "        [-0.04491015]], dtype=float32),\n",
              " array([-1.9468814], dtype=float32),\n",
              " array([[ 2.0568836 ,  0.23017165,  0.22351547,  2.0411644 ,  0.15039136,\n",
              "          1.947246  , -0.8109168 ]], dtype=float32),\n",
              " array([-0.38197893, -0.24267118, -0.24653457, -0.36310643, -0.22417434,\n",
              "        -0.30840865,  0.        ], dtype=float32),\n",
              " array([[-0.1205036 ,  0.7262161 , -0.5274825 , -0.26102877, -0.09183921,\n",
              "         -0.10126919],\n",
              "        [-0.4473992 , -0.26914248, -0.280019  , -0.42601016,  0.5127305 ,\n",
              "          0.0400125 ],\n",
              "        [ 0.359924  , -0.03383141, -0.59402937,  0.07237963, -0.26887357,\n",
              "         -0.6465771 ],\n",
              "        [-0.21924214,  0.95917374, -0.31496713, -0.63864565, -0.1776363 ,\n",
              "          0.02684035],\n",
              "        [-0.10481384, -0.4237016 ,  0.02382795, -0.10820571, -0.12010155,\n",
              "          0.19282284],\n",
              "        [-0.14010294,  0.8009452 , -0.2641639 , -0.34655   , -0.5255434 ,\n",
              "          0.03599862],\n",
              "        [-0.04055864,  0.1554392 ,  0.07341242, -0.59211576,  0.42826223,\n",
              "          0.4722947 ]], dtype=float32),\n",
              " array([-0.7467009 , -0.02442581, -0.18603013, -0.05558608, -0.15106994,\n",
              "        -0.16968617], dtype=float32),\n",
              " array([[-0.133911  ],\n",
              "        [-0.521603  ],\n",
              "        [ 0.52833706],\n",
              "        [ 0.85281587],\n",
              "        [ 0.71476316],\n",
              "        [ 0.6593619 ]], dtype=float32),\n",
              " array([-0.73421836], dtype=float32)]"
            ]
          },
          "metadata": {},
          "execution_count": 112
        }
      ]
    }
  ]
}